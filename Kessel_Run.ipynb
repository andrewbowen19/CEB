{
 "cells": [
  {
   "cell_type": "code",
   "execution_count": 1,
   "metadata": {},
   "outputs": [
    {
     "data": {
      "text/plain": [
       "'Making a new function (similar to cosmic_sampler) that will allow us to draw binaries \\n    under the hs boundary that we calculate'"
      ]
     },
     "execution_count": 1,
     "metadata": {},
     "output_type": "execute_result"
    }
   ],
   "source": [
    "\"\"\"Making a new function (similar to cosmic_sampler) that will allow us to draw binaries \n",
    "    under the hs boundary that we calculate\"\"\""
   ]
  },
  {
   "cell_type": "code",
   "execution_count": 2,
   "metadata": {},
   "outputs": [],
   "source": [
    "from cosmic.sample.initialbinarytable import InitialBinaryTable\n",
    "from cosmic.sample.sampler import independent\n",
    "from cosmic.sample.sampler import multidim\n",
    "from cosmic.evolve import Evolve\n",
    "import numpy as np\n",
    "import pandas as pd\n",
    "# import matplotlib\n",
    "# matplotlib.use('Agg')\n",
    "import matplotlib.pyplot as plt"
   ]
  },
  {
   "cell_type": "code",
   "execution_count": 3,
   "metadata": {},
   "outputs": [],
   "source": [
    "# Dictionary from cosmic's documentation\n",
    "BSEDict = {'xi': 0.5, 'bhflag': 1, 'neta': 0.5, 'windflag': 3, 'wdflag': 0, 'alpha1': 1.0, \\\n",
    "'pts1': 0.001, 'pts3': 0.02, 'pts2': 0.01, 'epsnov': 0.001, 'hewind': 1.0, 'ck': -1000, 'bwind': 0.0, 'lambdaf': 1.0, \\\n",
    "'mxns': 3.0, 'beta': -1.0, 'tflag': 1, 'acc2': 1.5, 'nsflag': 3, 'ceflag': 0, 'eddfac': 1.0, 'merger': 0, 'ifflag': 0, \\\n",
    "'bconst': -3000, 'sigma': 265.0, 'gamma': -2.0, 'ppsn': 1,\\\n",
    " 'natal_kick_array' : [-100.0,-100.0,-100.0,-100.0,-100.0,-100.0], 'bhsigmafrac' : 1.0, 'polar_kick_angle' : 90,\\\n",
    "  'qcrit_array' : [0.0,0.0,0.0,0.0,0.0,0.0,0.0,0.0,0.0,0.0,0.0,0.0,0.0,0.0,0.0,0.0], 'cekickflag' : 0, \\\n",
    "  'cehestarflag' : 0, 'cemergeflag' : 0, 'ecsnp' : 2.5, 'ecsn_mlow' : 1.6, 'aic' : 1, 'sigmadiv' :-20.0}\n"
   ]
  },
  {
   "cell_type": "code",
   "execution_count": 34,
   "metadata": {},
   "outputs": [],
   "source": [
    "# Defining our function, can add input params if we'd like\n",
    "def Kessel_Run(age, Nbin, Z, sigma, random_seed):#Starwars name for now just for distinction\n",
    "    \"\"\"Creates and evolves a set of binaries with given \n",
    "    age (to evolve to), number of binaries, metallicity, and velocity dispersion. \n",
    "    Will later loop through globular and open clusters and apply this for loop\"\"\"\n",
    "    n_grid = Nbin\n",
    "\n",
    "    # Initial (input) binares -- using sampler method from cosmic #1234 - random seed\n",
    "    InitialBinaries, sampled_mass, n_sampled = InitialBinaryTable.sampler('multidim',\\\n",
    "     [11], [11], random_seed, 1, 'delta_burst', age, Z, Nbin,porb_lo = 0.15, porb_hi = 4)\n",
    "\n",
    "    # Inclination and omega values\n",
    "    inc = np.arccos(2.*np.random.uniform(0,1,Nbin) - 1.)\n",
    "    omega = np.random.uniform(0,2*np.pi,Nbin)\n",
    "    OMEGA = np.random.uniform(0,2*np.pi,Nbin)\n",
    "    print(InitialBinaries)\n",
    "# Making Input variables global (for plotting later)\n",
    "    global p_i, m1_i, m2_i, ecc_i, tphysf_i, Z_i\n",
    "    # Input binary params (for plotting later)\n",
    "    p_i = InitialBinaries['porb']\n",
    "    m1_i = InitialBinaries['mass1_binary']\n",
    "    m2_i = InitialBinaries['mass2_binary']\n",
    "    ecc_i = InitialBinaries['ecc']\n",
    "    tphysf_i = InitialBinaries['tphysf']\n",
    "    Z_i = InitialBinaries['metallicity']\n",
    "    \n",
    "    # Evolving input binaries\n",
    "    bpp, bcm, initC  = Evolve.evolve(initialbinarytable=InitialBinaries, BSEDict=BSEDict)\n",
    "\n",
    "    # Making returned variables global\n",
    "    global p_f, m1_f, m2_f, ecc_f, tphysf_f, r1_f, r2_f, lum1_f, lum2_f, Teff1, Teff2\n",
    "    # Evolved Binary Params (made global for plotting later, can )\n",
    "    p_f = bcm['porb']\n",
    "    m1_f = bcm['mass_1']\n",
    "    m2_f = bcm['mass_2']\n",
    "    ecc_f = bcm['ecc']\n",
    "    tphsf_f = bcm['tphys']\n",
    "    r1_f = bcm['rad_1']\n",
    "    r2_f = bcm['rad_2']\n",
    "    lum1_f = bcm['lumin_1']\n",
    "    lum2_f = bcm['lumin_2']\n",
    "    Teff1 = bcm['teff_1']#Effective temperature - just in case\n",
    "    Teff2 = bcm['teff_2']\n",
    "\n",
    "\n",
    "\n",
    "    return (InitialBinaries, bcm)"
   ]
  },
  {
   "cell_type": "code",
   "execution_count": 36,
   "metadata": {},
   "outputs": [
    {
     "name": "stdout",
     "output_type": "stream",
     "text": [
      "   kstar_1  kstar_2  mass1_binary  mass2_binary         porb       ecc  \\\n",
      "0      1.0      1.0      8.708131      2.281042  3661.211915  0.146543   \n",
      "1      1.0      1.0      6.760692      4.548874    59.381704  0.725073   \n",
      "2      1.0      1.0     15.011847      3.215112    63.705240  0.547350   \n",
      "3      1.0      1.0      4.434631      3.640434  1418.998890  0.885851   \n",
      "4      1.0      1.0     14.345363      6.035093    50.669195  0.139348   \n",
      "5      1.0      1.0      3.887713      2.092740  2470.271427  0.400635   \n",
      "6      1.0      1.0     13.250107      2.653431   355.331408  0.746143   \n",
      "7      1.0      1.0     12.788264     11.961576     2.453075  0.085312   \n",
      "8      1.0      1.0     10.940720      6.182909     2.299664  0.029328   \n",
      "9      1.0      1.0      8.842239      2.973252   379.347873  0.724424   \n",
      "\n",
      "   metallicity   tphysf  \n",
      "0         0.01  10000.0  \n",
      "1         0.01  10000.0  \n",
      "2         0.01  10000.0  \n",
      "3         0.01  10000.0  \n",
      "4         0.01  10000.0  \n",
      "5         0.01  10000.0  \n",
      "6         0.01  10000.0  \n",
      "7         0.01  10000.0  \n",
      "8         0.01  10000.0  \n",
      "9         0.01  10000.0  \n"
     ]
    }
   ],
   "source": [
    "test_run = Kessel_Run(10000, Nbin = 10, Z = 0.01, sigma = 1, random_seed = np.random.randint(1,100))#, p_hs = 5)"
   ]
  },
  {
   "cell_type": "code",
   "execution_count": 30,
   "metadata": {},
   "outputs": [
    {
     "name": "stdout",
     "output_type": "stream",
     "text": [
      "   kstar_1  kstar_2  mass1_binary  mass2_binary        porb       ecc  \\\n",
      "0      1.0      1.0     17.845241      6.111942  119.754726  0.236214   \n",
      "1      1.0      1.0      3.535778      2.834481   52.594337  0.840500   \n",
      "2      1.0      1.0      6.792786      2.113215  126.910439  0.908899   \n",
      "3      1.0      1.0      8.619141      6.500287   25.001654  0.638554   \n",
      "4      1.0      1.0     13.776858     13.077998   11.588977  0.348617   \n",
      "5      1.0      1.0      8.977897      4.358980   58.879089  0.496796   \n",
      "6      1.0      1.0      3.084218      2.551403  432.365586  0.737395   \n",
      "7      1.0      1.0      2.153899      2.067904  813.845777  0.896482   \n",
      "8      1.0      1.0      3.323867      2.304207   54.353630  0.618474   \n",
      "9      1.0      1.0     12.545472      7.125700  886.247543  0.572390   \n",
      "\n",
      "   metallicity   tphysf  neta  bwind  ...  qcrit_6  qcrit_7  qcrit_8  qcrit_9  \\\n",
      "0         0.01  10000.0   0.5    0.0  ...      0.0      0.0      0.0      0.0   \n",
      "1         0.01  10000.0   0.5    0.0  ...      0.0      0.0      0.0      0.0   \n",
      "2         0.01  10000.0   0.5    0.0  ...      0.0      0.0      0.0      0.0   \n",
      "3         0.01  10000.0   0.5    0.0  ...      0.0      0.0      0.0      0.0   \n",
      "4         0.01  10000.0   0.5    0.0  ...      0.0      0.0      0.0      0.0   \n",
      "5         0.01  10000.0   0.5    0.0  ...      0.0      0.0      0.0      0.0   \n",
      "6         0.01  10000.0   0.5    0.0  ...      0.0      0.0      0.0      0.0   \n",
      "7         0.01  10000.0   0.5    0.0  ...      0.0      0.0      0.0      0.0   \n",
      "8         0.01  10000.0   0.5    0.0  ...      0.0      0.0      0.0      0.0   \n",
      "9         0.01  10000.0   0.5    0.0  ...      0.0      0.0      0.0      0.0   \n",
      "\n",
      "   qcrit_10  qcrit_11  qcrit_12  qcrit_13  qcrit_14  qcrit_15  \n",
      "0       0.0       0.0       0.0       0.0       0.0       0.0  \n",
      "1       0.0       0.0       0.0       0.0       0.0       0.0  \n",
      "2       0.0       0.0       0.0       0.0       0.0       0.0  \n",
      "3       0.0       0.0       0.0       0.0       0.0       0.0  \n",
      "4       0.0       0.0       0.0       0.0       0.0       0.0  \n",
      "5       0.0       0.0       0.0       0.0       0.0       0.0  \n",
      "6       0.0       0.0       0.0       0.0       0.0       0.0  \n",
      "7       0.0       0.0       0.0       0.0       0.0       0.0  \n",
      "8       0.0       0.0       0.0       0.0       0.0       0.0  \n",
      "9       0.0       0.0       0.0       0.0       0.0       0.0  \n",
      "\n",
      "[10 rows x 71 columns]\n"
     ]
    }
   ],
   "source": [
    "#outputs from our function that samples and evolves binaries\n",
    "initial_binaries = test_run[0]\n",
    "evolved_binaries = test_run[1]\n"
   ]
  },
  {
   "cell_type": "code",
   "execution_count": 63,
   "metadata": {},
   "outputs": [
    {
     "data": {
      "text/plain": [
       "Index(['ID_x', 'Name', 'RA', 'DEC', 'L', 'B', 'R_Sun', 'R_gc', 'X', 'Y', 'Z',\n",
       "       'key_0', '[Fe/H]_x', 'wt', 'E(B-V)_x', 'V_HB', '(m-M)V_x', 'V_t',\n",
       "       'M_V,t', 'U-B', 'B-V', 'V-R', 'V-I', 'spt', 'ellip', 'ID_y', 'v_r',\n",
       "       '+/-', 'v_LSR', 'sig_v', '+/-.1', 'c', 'r_c', 'r_h', 'mu_V', 'rho_',\n",
       "       'lg(tc)', 'lg(th)', 'Mcl[Msun]', 'rh[pc]', '[Fe/H]_y', 'age[Gyr]',\n",
       "       '(m-M)V_y', 'E(B-V)_y', 'log10(rho[Msun]/pc^3)', 'rc', 'sigma0[km/s]',\n",
       "       'esigma0[km/s]', 'fb', 'efb', '[M/H]', 'Rgc[kpc]', 'Rsun[kpc]'],\n",
       "      dtype='object')"
      ]
     },
     "execution_count": 63,
     "metadata": {},
     "output_type": "execute_result"
    }
   ],
   "source": [
    "GCs.columns"
   ]
  },
  {
   "cell_type": "code",
   "execution_count": 94,
   "metadata": {},
   "outputs": [],
   "source": [
    "# Now we read in in the data files for OCs and GCs\n",
    "\n",
    "# Names in GC data file\n",
    "names_gc = ['ID_x', 'Name', 'RA', 'DEC', 'L','B','R_Sun','R_gc','X','Y', 'Z', 'key_0','[Fe/H]_x', 'wt', 'E(B-V)_x',\\\n",
    " 'V_HB','(m-M)V_x', 'V_t', 'M_V,t', 'U-B', 'B-V', 'V-R', 'V-I', 'spt', 'ellip', 'ID_y', 'v_r', '+/-', 'v_LSR' ,'sig_v' ,'+/-.1', 'c', 'r_c', 'r_h', 'mu_V',\\\n",
    "  'rho_', 'lg(tc)', 'lg(th)', 'Mcl[Msun]', 'rh[pc]', '[Fe/H]_y', 'age[Gyr]', '(m-M)V_y', 'E(B-V)_y', 'log10(rho[Msun]/pc^3)',\\\n",
    " 'rc', 'sigma0[km/s]', 'esigma0[km/s]', 'fb', 'efb', '[M/H]', 'Rgc[kpc]','Rsun[kpc]']\n",
    "\n",
    "# names in OC datafile\n",
    "names_oc = ['Cluster_name', 'RA', 'DEC', 'l', 'b', 'Dist Mod', 'EB-V', 'Age', 'ST' ,'Z', 'Diam', 'Fe/H', 'MRV',\\\n",
    " 'pm RA', 'pm Dec', 'logM[Msun]', 'rtP[pc]', 'log(t[yr])K', 'rcK[pc]', 'rtK[pc]', 'Rhm[pc]',\\\n",
    "  '[Fe/H]K]', 'deltaV', 'sigdV', '[FeH]', 'sigFeH', 't', 'sigt', 'logt' ,'Rgc' ,'z' ,'Diam[pc]', 'd[pc]']\n",
    "path = '/Users/andrewbowen/ceb_project/cosmic_pop/'\n",
    "\n",
    "# Globular cluster read in\n",
    "GCs = pd.read_csv(path + 'gc_data.txt', sep = ' ', header = 0, names = names_gc)\n",
    "OCs = pd.read_csv(path + 'oc_data.txt', sep = ' ', header = 0, names = names_oc)"
   ]
  },
  {
   "cell_type": "code",
   "execution_count": 100,
   "metadata": {},
   "outputs": [
    {
     "name": "stdout",
     "output_type": "stream",
     "text": [
      "0      12.388962\n",
      "1       0.000000\n",
      "2      11.187387\n",
      "3       0.000000\n",
      "4       6.667342\n",
      "5       0.000000\n",
      "6       0.000000\n",
      "7       0.000000\n",
      "8       0.000000\n",
      "9      11.411948\n",
      "10      7.883908\n",
      "11      3.439950\n",
      "12      5.457761\n",
      "13      0.000000\n",
      "14      0.000000\n",
      "15     16.673228\n",
      "16      0.000000\n",
      "17      0.000000\n",
      "18      4.847198\n",
      "19      0.000000\n",
      "20      0.000000\n",
      "21      3.444542\n",
      "22      4.640216\n",
      "23      0.000000\n",
      "24      4.626147\n",
      "25      6.606004\n",
      "26      6.975154\n",
      "27      2.042282\n",
      "28     13.518913\n",
      "29      7.529252\n",
      "         ...    \n",
      "127     6.000048\n",
      "128     9.357500\n",
      "129     0.000000\n",
      "130     6.438904\n",
      "131     0.000000\n",
      "132     6.388262\n",
      "133    13.011301\n",
      "134     3.774333\n",
      "135     6.177821\n",
      "136     0.000000\n",
      "137     7.777288\n",
      "138     7.383591\n",
      "139     5.765937\n",
      "140     0.000000\n",
      "141     0.000000\n",
      "142     0.000000\n",
      "143     5.106917\n",
      "144     0.000000\n",
      "145     0.000000\n",
      "146     3.136052\n",
      "147    10.212815\n",
      "148     5.758525\n",
      "149     3.938549\n",
      "150     0.000000\n",
      "151     0.000000\n",
      "152     0.000000\n",
      "153     6.540604\n",
      "154     0.000000\n",
      "155     0.000000\n",
      "156     0.000000\n",
      "Name: sigma_v, Length: 157, dtype: float64\n"
     ]
    }
   ],
   "source": [
    "GC_sigma = pd.read_csv(path + 'gc-sigma.txt', names = ['index', 'sigma_v'])\n",
    "GCs['sigma_v'] = GC_sigma['sigma_v']\n",
    "print(GCs['sigma0[km/s]'])"
   ]
  },
  {
   "cell_type": "code",
   "execution_count": 102,
   "metadata": {},
   "outputs": [
    {
     "data": {
      "text/plain": [
       "0      11.00\n",
       "1       2.90\n",
       "2       6.40\n",
       "3      -9.99\n",
       "4      -9.99\n",
       "5      -9.99\n",
       "6      -9.99\n",
       "7      -9.99\n",
       "8      -9.99\n",
       "9      10.40\n",
       "10      5.30\n",
       "11     -9.99\n",
       "12      4.00\n",
       "13     -9.99\n",
       "14     -9.99\n",
       "15     13.40\n",
       "16     -9.99\n",
       "17     -9.99\n",
       "18      5.00\n",
       "19     -9.99\n",
       "20     -9.99\n",
       "21      2.60\n",
       "22     -9.99\n",
       "23     -9.99\n",
       "24      2.50\n",
       "25     -9.99\n",
       "26      4.40\n",
       "27      1.40\n",
       "28     16.80\n",
       "29      5.50\n",
       "       ...  \n",
       "127    -9.99\n",
       "128     7.80\n",
       "129    -9.99\n",
       "130     5.20\n",
       "131    -9.99\n",
       "132     4.30\n",
       "133    10.50\n",
       "134    -9.99\n",
       "135    -9.99\n",
       "136    -9.99\n",
       "137     4.90\n",
       "138    -9.99\n",
       "139     4.00\n",
       "140    -9.99\n",
       "141    -9.99\n",
       "142    -9.99\n",
       "143     4.00\n",
       "144    -9.99\n",
       "145    -9.99\n",
       "146     2.30\n",
       "147    10.30\n",
       "148     5.10\n",
       "149    -9.99\n",
       "150    -9.99\n",
       "151    13.50\n",
       "152     8.20\n",
       "153     5.50\n",
       "154    -9.99\n",
       "155     0.90\n",
       "156     1.20\n",
       "Name: sigma, Length: 157, dtype: float64"
      ]
     },
     "execution_count": 102,
     "metadata": {},
     "output_type": "execute_result"
    }
   ],
   "source": [
    "# gc_sigma = pd.merge(GCs['sigma0[km/s]'], GCs['sigma_v'], left_index = True, right_index = True)\n",
    "GCs['sigma'] = GCs['sigma0[km/s]'].combine_first(GCs['sigma_v'])\n",
    "GCs['sigma']"
   ]
  },
  {
   "cell_type": "code",
   "execution_count": 97,
   "metadata": {},
   "outputs": [
    {
     "data": {
      "text/plain": [
       "Index(['ID_x', 'Name', 'RA', 'DEC', 'L', 'B', 'R_Sun', 'R_gc', 'X', 'Y', 'Z',\n",
       "       'key_0', '[Fe/H]_x', 'wt', 'E(B-V)_x', 'V_HB', '(m-M)V_x', 'V_t',\n",
       "       'M_V,t', 'U-B', 'B-V', 'V-R', 'V-I', 'spt', 'ellip', 'ID_y', 'v_r',\n",
       "       '+/-', 'v_LSR', 'sig_v', '+/-.1', 'c', 'r_c', 'r_h', 'mu_V', 'rho_',\n",
       "       'lg(tc)', 'lg(th)', 'Mcl[Msun]', 'rh[pc]', '[Fe/H]_y', 'age[Gyr]',\n",
       "       '(m-M)V_y', 'E(B-V)_y', 'log10(rho[Msun]/pc^3)', 'rc', 'sigma0[km/s]',\n",
       "       'esigma0[km/s]', 'fb', 'efb', '[M/H]', 'Rgc[kpc]', 'Rsun[kpc]',\n",
       "       'sigma_v'],\n",
       "      dtype='object')"
      ]
     },
     "execution_count": 97,
     "metadata": {},
     "output_type": "execute_result"
    }
   ],
   "source": [
    "GCs.columns"
   ]
  },
  {
   "cell_type": "code",
   "execution_count": 76,
   "metadata": {},
   "outputs": [
    {
     "data": {
      "text/plain": [
       "0       4.150\n",
       "1       5.773\n",
       "2       2.051\n",
       "3       1.926\n",
       "4       3.224\n",
       "5       1.485\n",
       "6      14.705\n",
       "7      12.056\n",
       "8       3.956\n",
       "9       1.795\n",
       "10      2.439\n",
       "11      3.079\n",
       "12     21.384\n",
       "13      2.120\n",
       "14     -9.990\n",
       "15      2.234\n",
       "16      4.948\n",
       "17     17.490\n",
       "18      4.419\n",
       "19     16.126\n",
       "20      3.653\n",
       "21      2.695\n",
       "22      6.597\n",
       "23      6.475\n",
       "24      4.524\n",
       "25      4.627\n",
       "26      6.821\n",
       "27     13.210\n",
       "28      7.563\n",
       "29      6.854\n",
       "        ...  \n",
       "127     1.396\n",
       "128     3.128\n",
       "129     2.160\n",
       "130     1.859\n",
       "131     0.794\n",
       "132     2.669\n",
       "133     6.321\n",
       "134     1.404\n",
       "135     3.872\n",
       "136     2.528\n",
       "137     2.222\n",
       "138     2.734\n",
       "139     3.008\n",
       "140     5.107\n",
       "141     1.699\n",
       "142    14.725\n",
       "143     4.445\n",
       "144     7.268\n",
       "145     5.691\n",
       "146     1.943\n",
       "147     2.797\n",
       "148     3.131\n",
       "149     4.599\n",
       "150     5.273\n",
       "151     3.025\n",
       "152     3.546\n",
       "153     2.427\n",
       "154     9.506\n",
       "155     2.723\n",
       "156     8.798\n",
       "Name: rh[pc], Length: 157, dtype: float64"
      ]
     },
     "execution_count": 76,
     "metadata": {},
     "output_type": "execute_result"
    }
   ],
   "source": [
    "GCs['rh[pc]']"
   ]
  },
  {
   "cell_type": "code",
   "execution_count": 64,
   "metadata": {},
   "outputs": [],
   "source": [
    "# Trying to create sigma values for every Globular cluster (either using Harris or calculated sigma)\n",
    "harris_sigma = GCs['sig_v']\n",
    "hmf_sigma = GCs['sigma0[km/s]']#same as above, just with -9.99 instead of NaN values\n",
    "good_sigma = np.where(hmf_sigma != -9.99)\n",
    "\n",
    "\n"
   ]
  },
  {
   "cell_type": "code",
   "execution_count": null,
   "metadata": {},
   "outputs": [],
   "source": [
    "# Constant for our formula for velocity dispersion\n",
    "sigma_constant = (3 * np.pi / 64) * (6.6 * 10 ** -20)"
   ]
  },
  {
   "cell_type": "code",
   "execution_count": 80,
   "metadata": {},
   "outputs": [
    {
     "name": "stdout",
     "output_type": "stream",
     "text": [
      "3.197542437172947e+27\n",
      "8.511677730257114e+26\n",
      "1.5487710105875498e+27\n",
      "3.1389803339147024e+27\n",
      "1.4826641784820217e+27\n",
      "8.135769866312194e+26\n",
      "4.2395813751399584e+27\n",
      "6.289245440809972e+27\n",
      "9.934858610916946e+26\n",
      "1.0205733763453234e+27\n",
      "6.935888287268153e+27\n",
      "4.1026073468161646e+27\n",
      "7.684145350721768e+26\n",
      "1.0400063817672238e+28\n",
      "3.397224194248008e+27\n",
      "2.669694994897684e+27\n",
      "8.646079573352122e+27\n",
      "5.379266839364169e+27\n",
      "5.588723426108778e+27\n",
      "9.083859376591761e+26\n",
      "9.731439020164722e+27\n",
      "1.9216939860825717e+27\n",
      "6.615366464467164e+26\n",
      "2.0882158038895664e+28\n",
      "4.0726426933118343e+27\n",
      "1.776391273178812e+27\n",
      "1.0132085299751965e+28\n",
      "3.810230148639681e+27\n",
      "4.2051593274862276e+27\n",
      "4.425527926681184e+27\n",
      "5.580630386900463e+27\n",
      "6.338923072611395e+27\n",
      "3.2601028884376215e+27\n",
      "3.9741110152478386e+27\n",
      "4.1555162364896914e+27\n",
      "2.1017322503784404e+27\n",
      "2.5895268414404853e+27\n",
      "1.0246873443108305e+27\n",
      "2.745247270026831e+27\n",
      "3.9214454609156564e+27\n",
      "1.1157925187155712e+27\n"
     ]
    }
   ],
   "source": [
    "\n",
    "# Looping through GCs, calculating \n",
    "for index, gc in GCs.iterrows():\n",
    "    sigma = gc['sigma0[km/s]']\n",
    "    \n",
    "    if sigma == -9.99:#condition for if there is no harris velo disp. given\n",
    "        mcl = gc['Mcl[Msun]']#cluster mass in solar masses\n",
    "        if mcl != -9.99:#If there is a mass listed\n",
    "            a = (gc['rh[pc]'] *3 * (10**-13)) * np.sqrt(2)\n",
    "            mcl = mcl * 2 *(10**30)#converting to kg\n",
    "            cl_sigma  = sigma_constant * (mcl/a)\n",
    "            print(cl_sigma)\n",
    "#         elif mcl == -9.99:\n",
    "#             cl_sigma = \n",
    "\n"
   ]
  },
  {
   "cell_type": "code",
   "execution_count": null,
   "metadata": {},
   "outputs": [],
   "source": []
  }
 ],
 "metadata": {
  "kernelspec": {
   "display_name": "Python 3",
   "language": "python",
   "name": "python3"
  },
  "language_info": {
   "codemirror_mode": {
    "name": "ipython",
    "version": 3
   },
   "file_extension": ".py",
   "mimetype": "text/x-python",
   "name": "python",
   "nbconvert_exporter": "python",
   "pygments_lexer": "ipython3",
   "version": "3.7.3"
  }
 },
 "nbformat": 4,
 "nbformat_minor": 2
}
