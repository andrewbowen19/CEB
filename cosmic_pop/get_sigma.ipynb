{
 "cells": [
  {
   "cell_type": "code",
   "execution_count": 2,
   "metadata": {},
   "outputs": [
    {
     "data": {
      "text/plain": [
       "'Creating get_sgima fucntion as a jupyter-notebook (down with sublime)'"
      ]
     },
     "execution_count": 2,
     "metadata": {},
     "output_type": "execute_result"
    }
   ],
   "source": [
    "\"\"\"Creating get_sgima fucntion as a jupyter-notebook (down with sublime)\"\"\""
   ]
  },
  {
   "cell_type": "code",
   "execution_count": 3,
   "metadata": {},
   "outputs": [],
   "source": [
    "import cosmic"
   ]
  },
  {
   "cell_type": "code",
   "execution_count": 4,
   "metadata": {},
   "outputs": [],
   "source": [
    "from cosmic.sample import InitialBinaryTable"
   ]
  },
  {
   "cell_type": "code",
   "execution_count": 5,
   "metadata": {},
   "outputs": [],
   "source": [
    "import pandas as pd\n",
    "import numpy as np\n",
    "import math\n",
    "import matplotlib.pyplot as plt"
   ]
  },
  {
   "cell_type": "code",
   "execution_count": 6,
   "metadata": {},
   "outputs": [],
   "source": [
    "names_gc = ['ID_x', 'Name', 'RA', 'DEC', 'L','B','R_Sun','R_gc','X','Y', 'Z', 'key_0','[Fe/H]_x', 'wt', 'E(B-V)_x',\\\n",
    " 'V_HB','(m-M)V_x', 'V_t', 'M_V,t', 'U-B', 'B-V', 'V-R', 'V-I', 'spt', 'ellip', 'ID_y', 'v_r', '+/-', 'v_LSR' ,'sig_v' ,'+/-.1', 'c', 'r_c', 'r_h', 'mu_V',\\\n",
    "  'rho_', 'lg(tc)', 'lg(th)', 'Mcl[Msun]', 'rh[pc]', '[Fe/H]_y', 'age[Gyr]', '(m-M)V_y', 'E(B-V)_y', 'log10(rho[Msun]/pc^3)',\\\n",
    " 'rc', 'sigma0[km/s]', 'esigma0[km/s]', 'fb', 'efb', '[M/H]', 'Rgc[kpc]','Rsun[kpc]']\n",
    "\n",
    "# names in OC datafile\n",
    "names_oc = ['Cluster_name', 'RA', 'DEC', 'l', 'b', 'Dist Mod', 'EB-V', 'Age', 'ST' ,'Z', 'Diam', 'Fe/H', 'MRV',\\\n",
    " 'pm RA', 'pm Dec', 'logM[Msun]', 'rtP[pc]', 'log(t[yr])K', 'rcK[pc]', 'rtK[pc]', 'Rhm[pc]',\\\n",
    "  '[Fe/H]K]', 'deltaV', 'sigdV', '[FeH]', 'sigFeH', 't', 'sigt', 'logt' ,'Rgc' ,'z' ,'Diam[pc]', 'd[pc]']\n",
    "path = '/Users/andrewbowen/ceb_project/data/data_files'\n",
    "\n",
    "# Globular cluster read in\n",
    "GCs = pd.read_csv(path + '/GC_data/gc_data.txt', sep = ' ', header = 0, names = names_gc)\n",
    "\n",
    "# Open Cluster Read-in\n",
    "OCs = pd.read_csv(path + '/OC_data/oc_data.txt', sep = ' ', header = 0)"
   ]
  },
  {
   "cell_type": "code",
   "execution_count": 7,
   "metadata": {},
   "outputs": [
    {
     "name": "stdout",
     "output_type": "stream",
     "text": [
      "          ID_x       Name           RA          DEC       L      B  R_Sun  \\\n",
      "0      NGC 104     47 Tuc  00 24 05.67  -72 04 52.6  305.89 -44.89    4.5   \n",
      "1      NGC 288        NaN  00 52 45.24  -26 34 57.4  152.30 -89.38    8.9   \n",
      "2      NGC 362        NaN  01 03 14.26  -70 50 55.6  301.53 -46.25    8.6   \n",
      "3    Whiting 1        NaN     02 02 57    -03 15 10  161.22 -60.76   30.1   \n",
      "4     NGC 1261        NaN  03 12 16.21  -55 12 58.4  270.54 -52.12   16.3   \n",
      "5        Pal 1        NaN  03 33 20.04  +79 34 51.8  130.06  19.03   11.1   \n",
      "6         AM 1        E 1   03 55 02.3    -49 36 55  258.34 -48.47  123.3   \n",
      "7     Eridanus        NaN   04 24 44.5    -21 11 13  218.10 -41.33   90.1   \n",
      "8        Pal 2        NaN  04 46 05.91  +31 22 53.4  170.53  -9.07   27.2   \n",
      "9     NGC_1851        NaN  05 14 06.76  -40 02 47.6  244.51 -35.03   12.1   \n",
      "10    NGC_1904       M 79  05 24 11.09  -24 31 29.0  227.23 -29.35   12.9   \n",
      "11    NGC 2298        NaN  06 48 59.41  -36 00 19.1  245.63 -16.00   10.8   \n",
      "12    NGC 2419        NaN  07 38 08.47  +38 52 56.8  180.37  25.24   82.6   \n",
      "13        Ko 2        NaN   07 58 17.0    +26 15 18  195.12  25.54   34.7   \n",
      "14       Pyxis        NaN   09 07 57.8    -37 13 17  261.32   7.00   39.4   \n",
      "15    NGC 2808        NaN  09 12 03.10  -64 51 48.6  282.19 -11.25    9.6   \n",
      "16         E 3        NaN  09 20 57.07  -77 16 54.8  292.27 -19.02    8.1   \n",
      "17       Pal 3        NaN   10 05 31.9    +00 04 18  240.15  41.86   92.5   \n",
      "18    NGC 3201        NaN  10 17 36.82  -46 24 44.9  277.23   8.64    4.9   \n",
      "19       Pal 4        NaN  11 29 16.80  +28 58 24.9  202.31  71.80  108.7   \n",
      "20        Ko 1        NaN   11 59 18.5    +12 15 36  260.99  70.75   48.3   \n",
      "21    NGC 4147        NaN  12 10 06.30  +18 32 33.5  252.85  77.19   19.3   \n",
      "22    NGC 4372        NaN  12 25 45.40  -72 39 32.4  300.99  -9.88    5.8   \n",
      "23     Rup 106        NaN   12 38 40.2    -51 09 01  300.88  11.67   21.2   \n",
      "24    NGC 4590       M 68  12 39 27.98  -26 44 38.6  299.63  36.05   10.3   \n",
      "25    NGC 4833        NaN  12 59 33.92  -70 52 35.4  303.60  -8.02    6.6   \n",
      "26    NGC 5024       M 53  13 12 55.25  +18 10 05.4  332.96  79.76   17.9   \n",
      "27    NGC 5053        NaN  13 16 27.09  +17 42 00.9  335.70  78.95   17.4   \n",
      "28    NGC 5139  omega Cen  13 26 47.24  -47 28 46.5  309.10  14.97    5.2   \n",
      "29    NGC 5272        M 3  13 42 11.62  +28 22 38.2   42.22  78.71   10.2   \n",
      "..         ...        ...          ...          ...     ...    ...    ...   \n",
      "127   NGC 6652        NaN  18 35 45.63  -32 59 26.6    1.53 -11.38   10.0   \n",
      "128   NGC 6656       M 22  18 36 23.94  -23 54 17.1    9.89  -7.55    3.2   \n",
      "129      Pal 8        NaN   18 41 29.9    -19 49 33   14.11  -6.79   12.8   \n",
      "130   NGC 6681       M 70  18 43 12.76  -32 17 31.6    2.85 -12.51    9.0   \n",
      "131  GLIMPSE01        NaN   18 48 49.7    -01 29 50   31.31  -0.10    4.2   \n",
      "132   NGC 6712        NaN  18 53 04.30  -08 42 22.0   25.35  -4.32    6.9   \n",
      "133   NGC 6715       M 54  18 55 03.33  -30 28 47.5    5.61 -14.09   26.5   \n",
      "134   NGC 6717      Pal 9  18 55 06.04  -22 42 05.3   12.88 -10.90    7.1   \n",
      "135   NGC 6723        NaN  18 59 33.15  -36 37 56.1    0.07 -17.30    8.7   \n",
      "136   NGC 6749        NaN   19 05 15.3    +01 54 03   36.20  -2.21    7.9   \n",
      "137   NGC 6752        NaN  19 10 52.11  -59 59 04.4  336.49 -25.63    4.0   \n",
      "138   NGC 6760        NaN  19 11 12.01  +01 01 49.7   36.11  -3.92    7.4   \n",
      "139   NGC 6779       M 56  19 16 35.57  +30 11 00.5   62.66   8.34    9.4   \n",
      "140   Terzan 7        NaN  19 17 43.92  -34 39 27.8    3.39 -20.07   22.8   \n",
      "141     Pal 10        NaN   19 18 02.1    +18 34 18   52.43   2.72    5.9   \n",
      "142      Arp 2        NaN  19 28 44.11  -30 21 20.3    8.55 -20.79   28.6   \n",
      "143   NGC 6809       M 55  19 39 59.71  -30 57 53.1    8.79 -23.27    5.4   \n",
      "144   Terzan 8        NaN  19 41 44.41  -33 59 58.1    5.76 -24.56   26.3   \n",
      "145     Pal 11        NaN   19 45 14.4    -08 00 26   31.81 -15.57   13.4   \n",
      "146   NGC 6838       M 71  19 53 46.49  +18 46 45.1   56.75  -4.56    4.0   \n",
      "147   NGC 6864       M 75  20 06 04.69  -21 55 16.2   20.30 -25.75   20.9   \n",
      "148   NGC 6934        NaN  20 34 11.37  +07 24 16.1   52.10 -18.89   15.6   \n",
      "149   NGC 6981       M 72  20 53 27.70  -12 32 14.3   35.16 -32.68   17.0   \n",
      "150   NGC 7006        NaN  21 01 29.38  +16 11 14.4   63.77 -19.41   41.2   \n",
      "151   NGC 7078       M 15  21 29 58.33  +12 10 01.2   65.01 -27.31   10.4   \n",
      "152   NGC 7089        M 2  21 33 27.02  -00 49 23.7   53.37 -35.77   11.5   \n",
      "153   NGC 7099       M 30  21 40 22.12  -23 10 47.5   27.18 -46.84    8.1   \n",
      "154     Pal 12        NaN  21 46 38.84  -21 15 09.4   30.51 -47.68   19.0   \n",
      "155     Pal 13        NaN  23 06 44.44  +12 46 19.2   87.10 -42.70   26.0   \n",
      "156   NGC 7492        NaN  23 08 26.63  -15 36 41.4   53.39 -63.48   26.3   \n",
      "\n",
      "      R_gc     X     Y  ...  E(B-V)_y log10(rho[Msun]/pc^3)      rc  \\\n",
      "0      7.4   1.9  -2.6  ...      0.04                 5.181   0.471   \n",
      "1     12.0  -0.1   0.0  ...      0.03                -9.990   3.495   \n",
      "2      9.4   3.1  -5.1  ...      0.05                 5.041   0.450   \n",
      "3     34.5 -13.9   4.7  ...      0.03                -9.990   2.189   \n",
      "4     18.1   0.1 -10.0  ...      0.01                 3.291   1.660   \n",
      "5     17.2  -6.8   8.1  ...      0.15                -9.990   0.032   \n",
      "6    124.6 -16.5 -80.1  ...      0.00                -9.990   6.097   \n",
      "7     95.0 -53.2 -41.7  ...      0.02                -9.990   6.552   \n",
      "8     35.0 -26.4   4.4  ...      1.24                -9.990   1.345   \n",
      "9     16.6  -4.2  -8.9  ...      0.02                 5.391   0.317   \n",
      "10    18.8  -7.7  -8.3  ...      0.01                 4.381   0.600   \n",
      "11    15.8  -4.3  -9.4  ...      0.14                 3.201   0.974   \n",
      "12    89.9 -74.7  -0.5  ...      0.08                 1.921   7.689   \n",
      "13    41.9 -30.2  -8.2  ...      0.08                -9.990   2.523   \n",
      "14    41.4  -5.9 -38.7  ...      0.21                -9.990   0.000   \n",
      "15    11.1   2.0  -9.2  ...      0.22                 4.961   0.698   \n",
      "16     9.1   2.9  -7.1  ...      0.30                -9.990   4.406   \n",
      "17    95.7 -34.3 -59.7  ...      0.04                -9.990  11.032   \n",
      "18     8.8   0.6  -4.8  ...      0.24                 3.011   1.853   \n",
      "19   111.2 -31.4 -12.9  ...      0.01                -9.990  10.434   \n",
      "20    49.3  -2.5 -15.7  ...      0.01                -9.990   4.636   \n",
      "21    21.4  -1.3  -4.1  ...      0.02                 3.931   0.505   \n",
      "22     7.1   2.9  -4.9  ...      0.39                 2.361   2.953   \n",
      "23    18.5  10.7 -17.8  ...      0.20                -9.990   6.167   \n",
      "24    10.2   4.1  -7.2  ...      0.05                 2.871   1.738   \n",
      "25     7.0   3.6  -5.4  ...      0.32                 3.301   1.920   \n",
      "26    18.4   2.8  -1.4  ...      0.02                 3.371   1.822   \n",
      "27    17.8   3.0  -1.4  ...      0.01                 0.841  10.528   \n",
      "28     6.4   3.1  -3.9  ...      0.12                 3.451   3.585   \n",
      "29    12.0   1.5   1.3  ...      0.01                 3.871   1.098   \n",
      "..     ...   ...   ...  ...       ...                   ...     ...   \n",
      "127    2.7   9.8   0.3  ...      0.09                 4.781   0.291   \n",
      "128    4.9   3.2   0.6  ...      0.34                 3.931   1.238   \n",
      "129    5.5  12.3   3.1  ...      0.32                -9.990   2.085   \n",
      "130    2.2   8.8   0.4  ...      0.07                 6.121   0.079   \n",
      "131    4.9   3.6   2.2  ...      4.85                -9.990   0.721   \n",
      "132    3.5   6.3   3.0  ...      0.45                 3.481   1.525   \n",
      "133   18.9  25.6   2.5  ...      0.15                 4.991   0.694   \n",
      "134    2.4   6.8   1.6  ...      0.22                 4.881   0.165   \n",
      "135    2.6   8.3   0.0  ...      0.05                 3.091   2.101   \n",
      "136    5.0   6.4   4.7  ...      1.50                -9.990   1.425   \n",
      "137    5.2   3.3  -1.4  ...      0.04                 5.341   0.198   \n",
      "138    4.8   5.9   4.3  ...      0.77                 4.191   0.732   \n",
      "139    9.2   4.3   8.3  ...      0.26                 3.581   1.203   \n",
      "140   15.6  21.4   1.3  ...      0.07                -9.990   3.250   \n",
      "141    6.4   3.6   4.7  ...      1.66                -9.990   1.390   \n",
      "142   21.4  26.4   4.0  ...      0.10                -9.990   9.900   \n",
      "143    3.9   4.9   0.8  ...      0.08                 2.521   2.827   \n",
      "144   19.4  23.8   2.4  ...      0.12                -9.990   7.650   \n",
      "145    8.2  11.0   6.8  ...      0.35                -9.990   4.639   \n",
      "146    6.7   2.2   3.4  ...      0.25                 3.131   0.733   \n",
      "147   14.7  17.6   6.5  ...      0.16                 4.811   0.547   \n",
      "148   12.8   9.1  11.7  ...      0.10                 3.741   0.998   \n",
      "149   12.9  11.7   8.3  ...      0.05                 2.681   2.275   \n",
      "150   38.5  17.2  34.8  ...      0.05                -9.990   2.037   \n",
      "151   10.4   3.9   8.3  ...      0.10                -9.990   0.424   \n",
      "152   10.4   5.6   7.5  ...      0.06                -9.990   1.070   \n",
      "153    7.1   4.9   2.5  ...      0.03                 5.311   0.141   \n",
      "154   15.8  11.0   6.5  ...      0.02                -9.990   0.111   \n",
      "155   26.9   1.0  19.1  ...      0.05                -9.990   3.630   \n",
      "156   25.3   7.0   9.4  ...      0.00                -9.990   6.579   \n",
      "\n",
      "     sigma0[km/s]  esigma0[km/s]    fb   efb  [M/H]  Rgc[kpc]  Rsun[kpc]  \n",
      "0           11.00           0.30  0.02  0.01  -0.57       7.4        4.5  \n",
      "1            2.90           0.30 -9.99 -9.99  -1.18      12.0        8.9  \n",
      "2            6.40           0.30  0.50  0.01  -1.11       9.4        8.6  \n",
      "3           -9.99          -9.99 -9.99 -9.99  -9.99      34.5       30.1  \n",
      "4           -9.99          -9.99  0.06  0.01  -1.10      18.1       16.3  \n",
      "5           -9.99          -9.99 -9.99 -9.99  -0.46      17.2       11.1  \n",
      "6           -9.99          -9.99 -9.99 -9.99  -9.99     124.6      123.3  \n",
      "7           -9.99          -9.99 -9.99 -9.99  -9.99      95.0       90.1  \n",
      "8           -9.99          -9.99 -9.99 -9.99  -9.99      35.0       27.2  \n",
      "9           10.40           0.50 -9.99 -9.99  -1.01      16.6       12.1  \n",
      "10           5.30           0.40 -9.99 -9.99  -9.99      18.8       12.9  \n",
      "11          -9.99          -9.99  0.11  0.01  -1.69      15.8       10.8  \n",
      "12           4.00           0.60 -9.99 -9.99  -9.99      89.9       82.6  \n",
      "13          -9.99          -9.99 -9.99 -9.99  -9.99      41.9       34.7  \n",
      "14          -9.99          -9.99 -9.99 -9.99  -9.99      41.4       39.4  \n",
      "15          13.40           1.20 -9.99 -9.99  -1.14      11.1        9.6  \n",
      "16          -9.99          -9.99 -9.99 -9.99  -0.66       9.1        8.1  \n",
      "17          -9.99          -9.99 -9.99 -9.99  -9.99      95.7       92.5  \n",
      "18           5.00           0.20  0.11  0.01  -1.31       8.8        4.9  \n",
      "19          -9.99          -9.99 -9.99 -9.99  -9.99     111.2      108.7  \n",
      "20          -9.99          -9.99 -9.99 -9.99  -9.99      49.3       48.3  \n",
      "21           2.60           0.70  0.03  0.02  -1.55      21.4       19.3  \n",
      "22          -9.99          -9.99 -9.99 -9.99  -9.99       7.1        5.8  \n",
      "23          -9.99          -9.99 -9.99 -9.99  -9.99      18.5       21.2  \n",
      "24           2.50           0.40  0.08  0.01  -1.89      10.2       10.3  \n",
      "25          -9.99          -9.99  0.04  0.01  -1.70       7.0        6.6  \n",
      "26           4.40           0.90  0.06  0.01  -1.82      18.4       17.9  \n",
      "27           1.40           0.20  0.19  0.04  -1.88      17.8       17.4  \n",
      "28          16.80           0.30 -9.99 -9.99  -1.37       6.4        5.2  \n",
      "29           5.50           0.30  0.02  0.01  -1.44      12.0       10.2  \n",
      "..            ...            ...   ...   ...    ...       ...        ...  \n",
      "127         -9.99          -9.99  0.10  0.01  -0.75       2.7       10.0  \n",
      "128          7.80           0.30  0.04  0.01  -1.53       4.9        3.2  \n",
      "129         -9.99          -9.99 -9.99 -9.99  -9.99       5.5       12.8  \n",
      "130          5.20           0.50  0.05  0.01  -1.42       2.2        9.0  \n",
      "131         -9.99          -9.99 -9.99 -9.99  -9.99       4.9        4.2  \n",
      "132          4.30           0.40 -9.99 -9.99  -9.99       3.5        6.9  \n",
      "133         10.50           0.30 -9.99 -9.99  -1.32      18.9       26.5  \n",
      "134         -9.99          -9.99 -9.99 -9.99  -1.11       2.4        7.1  \n",
      "135         -9.99          -9.99  0.03  0.01  -0.90       2.6        8.7  \n",
      "136         -9.99          -9.99 -9.99 -9.99  -9.99       5.0        7.9  \n",
      "137          4.90           0.40  0.01  0.01  -1.32       5.2        4.0  \n",
      "138         -9.99          -9.99 -9.99 -9.99  -9.99       4.8        7.4  \n",
      "139          4.00           0.60  0.06  0.01  -1.72       9.2        9.4  \n",
      "140         -9.99          -9.99 -9.99 -9.99  -0.44      15.6       22.8  \n",
      "141         -9.99          -9.99 -9.99 -9.99  -9.99       6.4        5.9  \n",
      "142         -9.99          -9.99 -9.99 -9.99  -1.52      21.4       28.6  \n",
      "143          4.00           0.30 -9.99 -9.99  -1.58       3.9        5.4  \n",
      "144         -9.99          -9.99 -9.99 -9.99  -1.75      19.4       26.3  \n",
      "145         -9.99          -9.99 -9.99 -9.99  -9.99       8.2       13.4  \n",
      "146          2.30           0.20  0.22  0.02  -0.44       6.7        4.0  \n",
      "147         10.30           1.50 -9.99 -9.99  -9.99      14.7       20.9  \n",
      "148          5.10           1.10  0.06  0.01  -1.32      12.8       15.6  \n",
      "149         -9.99          -9.99  0.06  0.02  -1.28      12.9       17.0  \n",
      "150         -9.99          -9.99 -9.99 -9.99  -9.99      38.5       41.2  \n",
      "151         13.50           0.90 -9.99 -9.99  -1.91      10.4       10.4  \n",
      "152          8.20           0.60 -9.99 -9.99  -1.39      10.4       11.5  \n",
      "153          5.50           0.40  0.02  0.01  -1.83       7.1        8.1  \n",
      "154         -9.99          -9.99 -9.99 -9.99  -0.68      15.8       19.0  \n",
      "155          0.90           0.30 -9.99 -9.99  -9.99      26.9       26.0  \n",
      "156          1.20           1.00 -9.99 -9.99  -9.99      25.3       26.3  \n",
      "\n",
      "[157 rows x 53 columns]\n"
     ]
    }
   ],
   "source": [
    "# Globular Cluster core radius\n",
    "gc_rc = GCs['r_c']\n",
    "\n",
    "gc_distance = GCs['Rsun[kpc]']\n",
    "a = math.sqrt(2) * gc_rc\n",
    "print(GCs)\n",
    "# Squared z velocity dispersion (from core radius) - will need cluster mass maybe "
   ]
  },
  {
   "cell_type": "code",
   "execution_count": 33,
   "metadata": {},
   "outputs": [
    {
     "name": "stdout",
     "output_type": "stream",
     "text": [
      "Globular Cluster Velocity Dispersions:\n",
      "12.388961978119479 km/s\n",
      "11.18738699097014 km/s\n",
      "6.667341665169919 km/s\n",
      "11.411947738430275 km/s\n",
      "7.88390798388407 km/s\n",
      "3.439950065640019 km/s\n",
      "5.457760773148108 km/s\n",
      "16.673228110759574 km/s\n",
      "4.847198106860366 km/s\n",
      "3.4445416644871707 km/s\n",
      "4.64021557999934 km/s\n",
      "4.626147378579214 km/s\n",
      "6.606004265915379 km/s\n",
      "6.975154076584317 km/s\n",
      "2.042281547324406 km/s\n",
      "13.518913373283088 km/s\n",
      "7.529252050635176 km/s\n",
      "11.723723509216898 km/s\n",
      "2.5114154708201952 km/s\n",
      "4.540105553262397 km/s\n",
      "6.0241957619003195 km/s\n",
      "9.481090478634629 km/s\n",
      "3.3631317425366487 km/s\n",
      "9.712943179334562 km/s\n",
      "7.677256312836536 km/s\n",
      "5.42961174231543 km/s\n",
      "9.350693552170716 km/s\n",
      "10.967422248010934 km/s\n",
      "5.445472393904873 km/s\n",
      "3.716425213313383 km/s\n",
      "3.766748896974164 km/s\n",
      "9.819640698179656 km/s\n",
      "4.891660314028271 km/s\n",
      "9.062593741626891 km/s\n",
      "7.552218198755199 km/s\n",
      "6.092616492902982 km/s\n",
      "3.268453705815242 km/s\n",
      "6.547738384437803 km/s\n",
      "16.774566236707408 km/s\n",
      "12.024376178201095 km/s\n",
      "7.523626870544231 km/s\n",
      "6.872371950395031 km/s\n",
      "7.566165573787128 km/s\n",
      "6.09221716662597 km/s\n",
      "10.963624848562032 km/s\n",
      "9.22411505722857 km/s\n",
      "6.808626702395518 km/s\n",
      "8.647809148123963 km/s\n",
      "4.7263101807432575 km/s\n",
      "8.814564526260352 km/s\n",
      "3.553691746567302 km/s\n",
      "3.8048069847576134 km/s\n",
      "20.55524665551763 km/s\n",
      "11.631429299054753 km/s\n",
      "5.1687635798687435 km/s\n",
      "5.044393469011413 km/s\n",
      "3.0326445188724196 km/s\n",
      "17.0385346394414 km/s\n",
      "20.102461621873434 km/s\n",
      "7.524587681080113 km/s\n",
      "4.969513421722042 km/s\n",
      "11.868449086478538 km/s\n",
      "7.465570395914314 km/s\n",
      "2.270097790120592 km/s\n",
      "7.278135838242552 km/s\n",
      "7.646026167987056 km/s\n",
      "7.843810541621742 km/s\n",
      "10.982676901513138 km/s\n",
      "8.808180021673442 km/s\n",
      "9.387550646544415 km/s\n",
      "6.732249545720229 km/s\n",
      "7.558956942776237 km/s\n",
      "7.965823658233817 km/s\n",
      "7.433007136980388 km/s\n",
      "7.600760430776173 km/s\n",
      "5.4054673266539 km/s\n",
      "6.000048499898257 km/s\n",
      "9.357499746989692 km/s\n",
      "6.4389041280513455 km/s\n",
      "6.388262254779043 km/s\n",
      "13.011300709649717 km/s\n",
      "3.774333211601418 km/s\n",
      "6.177820515555107 km/s\n",
      "7.777287771219155 km/s\n",
      "7.383591174621526 km/s\n",
      "5.765936811732941 km/s\n",
      "5.106916767537339 km/s\n",
      "3.1360515684981625 km/s\n",
      "10.212815218957006 km/s\n",
      "5.758524737765013 km/s\n",
      "3.9385491999049522 km/s\n",
      "6.540604404486363 km/s\n",
      "The percent of globular clusters with a sigma value is: 0.5859872611464968\n"
     ]
    }
   ],
   "source": [
    "\"\"\"Globular Cluster for loop - getting velocity dispersion for each cluster\n",
    "(as given by Plummer models) -- may need to check units on formula bc values \n",
    "seem a bit off\"\"\"\n",
    "gc_indices = []\n",
    "n = 0\n",
    "GCs['sigma_v'] = pd.Series(np.zeros(len(GCs)), index = GCs.index)\n",
    "print('Globular Cluster Velocity Dispersions:')\n",
    "for index, cluster in GCs.iterrows():\n",
    "    rc = cluster['rh[pc]'] * (3.086 * (10**13))#core radius (parsecs)\n",
    "\n",
    "    a = math.sqrt(2) * rc\n",
    "    mass = cluster['Mcl[Msun]']\n",
    "    dist = cluster['Rsun[kpc]']\n",
    "    \n",
    "#     Checking that there is a mass value\n",
    "    if mass != -9.99:\n",
    "#         Formula from Plummer model\n",
    "        sigma_z = math.sqrt(((3/64)*(math.pi)*(6.6741 * (10**(-20) * (mass * 2 * (10 **30)))/rc)))\n",
    "        print(sigma_z, \"km/s\")\n",
    "#         Increment counter\n",
    "        n += 1\n",
    "        gc_indices.append(index)#gives indices of GCs with calculates sigma value\n",
    "        GCs['sigma_v'].iloc[index]= sigma_z\n",
    "        \n",
    "# Percent of velocity dispersions covered\n",
    "percent_rec = n/len(GCs)\n",
    "print(f'The percent of globular clusters with a sigma value is: {percent_rec}')"
   ]
  },
  {
   "cell_type": "code",
   "execution_count": 34,
   "metadata": {},
   "outputs": [
    {
     "name": "stdout",
     "output_type": "stream",
     "text": [
      "(0      12.388962\n",
      "1       0.000000\n",
      "2      11.187387\n",
      "3       0.000000\n",
      "4       6.667342\n",
      "5       0.000000\n",
      "6       0.000000\n",
      "7       0.000000\n",
      "8       0.000000\n",
      "9      11.411948\n",
      "10      7.883908\n",
      "11      3.439950\n",
      "12      5.457761\n",
      "13      0.000000\n",
      "14      0.000000\n",
      "15     16.673228\n",
      "16      0.000000\n",
      "17      0.000000\n",
      "18      4.847198\n",
      "19      0.000000\n",
      "20      0.000000\n",
      "21      3.444542\n",
      "22      4.640216\n",
      "23      0.000000\n",
      "24      4.626147\n",
      "25      6.606004\n",
      "26      6.975154\n",
      "27      2.042282\n",
      "28     13.518913\n",
      "29      7.529252\n",
      "         ...    \n",
      "127     6.000048\n",
      "128     9.357500\n",
      "129     0.000000\n",
      "130     6.438904\n",
      "131     0.000000\n",
      "132     6.388262\n",
      "133    13.011301\n",
      "134     3.774333\n",
      "135     6.177821\n",
      "136     0.000000\n",
      "137     7.777288\n",
      "138     7.383591\n",
      "139     5.765937\n",
      "140     0.000000\n",
      "141     0.000000\n",
      "142     0.000000\n",
      "143     5.106917\n",
      "144     0.000000\n",
      "145     0.000000\n",
      "146     3.136052\n",
      "147    10.212815\n",
      "148     5.758525\n",
      "149     3.938549\n",
      "150     0.000000\n",
      "151     0.000000\n",
      "152     0.000000\n",
      "153     6.540604\n",
      "154     0.000000\n",
      "155     0.000000\n",
      "156     0.000000\n",
      "Name: sigma_v, Length: 157, dtype: float64, 0      11.00\n",
      "1       2.90\n",
      "2       6.40\n",
      "3      -9.99\n",
      "4      -9.99\n",
      "5      -9.99\n",
      "6      -9.99\n",
      "7      -9.99\n",
      "8      -9.99\n",
      "9      10.40\n",
      "10      5.30\n",
      "11     -9.99\n",
      "12      4.00\n",
      "13     -9.99\n",
      "14     -9.99\n",
      "15     13.40\n",
      "16     -9.99\n",
      "17     -9.99\n",
      "18      5.00\n",
      "19     -9.99\n",
      "20     -9.99\n",
      "21      2.60\n",
      "22     -9.99\n",
      "23     -9.99\n",
      "24      2.50\n",
      "25     -9.99\n",
      "26      4.40\n",
      "27      1.40\n",
      "28     16.80\n",
      "29      5.50\n",
      "       ...  \n",
      "127    -9.99\n",
      "128     7.80\n",
      "129    -9.99\n",
      "130     5.20\n",
      "131    -9.99\n",
      "132     4.30\n",
      "133    10.50\n",
      "134    -9.99\n",
      "135    -9.99\n",
      "136    -9.99\n",
      "137     4.90\n",
      "138    -9.99\n",
      "139     4.00\n",
      "140    -9.99\n",
      "141    -9.99\n",
      "142    -9.99\n",
      "143     4.00\n",
      "144    -9.99\n",
      "145    -9.99\n",
      "146     2.30\n",
      "147    10.30\n",
      "148     5.10\n",
      "149    -9.99\n",
      "150    -9.99\n",
      "151    13.50\n",
      "152     8.20\n",
      "153     5.50\n",
      "154    -9.99\n",
      "155     0.90\n",
      "156     1.20\n",
      "Name: sigma0[km/s], Length: 157, dtype: float64)\n"
     ]
    }
   ],
   "source": [
    "gc_calcsigma = GCs['sigma_v']\n",
    "print((gc_calcsigma, GCs['sigma0[km/s]']))"
   ]
  },
  {
   "cell_type": "code",
   "execution_count": 9,
   "metadata": {},
   "outputs": [
    {
     "name": "stdout",
     "output_type": "stream",
     "text": [
      "Index(['Unnamed: 0', 'Cluster_name', 'RA', 'DEC', 'l', 'b', 'Dist', 'Mod',\n",
      "       'EB-V', 'Age', 'ST', 'Z', 'Diam', 'Fe/H', 'MRV', 'pm RA', 'pm Dec',\n",
      "       'logM[Msun]', 'rtP[pc]', 'log(t[yr])K', 'rcK[pc]', 'rtK[pc]', 'Rhm[pc]',\n",
      "       '[Fe/H]K]', 'deltaV', 'sigdV', '[FeH]', 'sigFeH', 't', 'sigt', 'logt',\n",
      "       'Rgc', 'z', 'Diam[pc]', 'd[pc]'],\n",
      "      dtype='object')\n"
     ]
    }
   ],
   "source": [
    "print(OCs.columns)"
   ]
  },
  {
   "cell_type": "code",
   "execution_count": 10,
   "metadata": {},
   "outputs": [
    {
     "name": "stdout",
     "output_type": "stream",
     "text": [
      "Open Cluster velocity dispersions:\n"
     ]
    },
    {
     "name": "stderr",
     "output_type": "stream",
     "text": [
      "/Users/andrewbowen/anaconda3/envs/cosmic/lib/python3.7/site-packages/pandas/core/indexing.py:190: SettingWithCopyWarning: \n",
      "A value is trying to be set on a copy of a slice from a DataFrame\n",
      "\n",
      "See the caveats in the documentation: http://pandas.pydata.org/pandas-docs/stable/indexing.html#indexing-view-versus-copy\n",
      "  self._setitem_with_indexer(indexer, value)\n"
     ]
    },
    {
     "name": "stdout",
     "output_type": "stream",
     "text": [
      "Total # sigmas: 1270\n",
      "Total # of Open Clusters: 1801\n",
      "The percent of Open Clusters we could get a velocity dispersion for is: 0.7051637978900611\n"
     ]
    }
   ],
   "source": [
    "# Indexing through OC's for Piskunov masses, etc. - getting velocity dispersions for Piskunov clusters\n",
    "n = 0\n",
    "sigma_v = []#list for adding velocity dispersions as a column in dataframe\n",
    "OCs['sigma_v'] = pd.Series(np.zeros(len(OCs)), index = OCs.index)\n",
    "i = []\n",
    "print('Open Cluster velocity dispersions:')\n",
    "for index, row in OCs.iterrows():\n",
    "\n",
    "    rhm = row['Rhm[pc]']#Piskunov half-mass radius in parsecs\n",
    "    if np.isfinite(rhm):#checking for presence of half-mass data\n",
    "        a = rhm/1.305\n",
    "        log_mass = row['logM[Msun]']#log mass\n",
    "        mass = 10 ** log_mass#converts from log-mass to normal solar unit mass\n",
    "        if rhm != -9.99:\n",
    "            sigma_z = math.sqrt(((3/64)*(math.pi)*(6.6741 * (10**(-20) * (mass * 2 * (10 **30)))/rc)))\n",
    "#             print('Piskunov:', sigma_z)#can print dispersion and source if necessary\n",
    "            if sigma_z != 0:\n",
    "                OCs['sigma_v'].iloc[index]= sigma_z\n",
    "                i.append(index)\n",
    "                n+=1\n",
    "                \n",
    "                \n",
    "# Setting up for Solaris and Webda diameter/radii \n",
    "# (will still use Piskunov masses b/c that's all we have rn)  \n",
    "    diam = row['Diam']#Webda\n",
    "    D = row['Diam[pc]']#Solaris\n",
    "    \n",
    "#     Using Webda Diameter('Diam')\n",
    "    if np.isfinite(diam):\n",
    "        rad = diam/2\n",
    "        a = rad/1.305\n",
    "        log_mass = row['logM[Msun]']#log mass\n",
    "        mass = 10 ** log_mass#converts from log-mass to normal solar unit mass\n",
    "        if mass != -9.999 and np.isfinite(mass):\n",
    "            sigma_z = math.sqrt(((3/64)*(math.pi)*(6.6741 * (10**(-20) * (mass * 2 * (10 **30)))/rc)))\n",
    "#             print(\"Webda\",sigma_z)#can print dispersion and source if necessary\n",
    "            if sigma_z != 0:\n",
    "                OCs['sigma_v'].iloc[index]= sigma_z\n",
    "                n+=1\n",
    "                i.append(index)\n",
    "    \n",
    "#     Now using Solaris Diameter (D)\n",
    "    if np.isfinite(D):        \n",
    "        R = D/2#setting up radius\n",
    "        a = R/1.305\n",
    "        log_mass = row['logM[Msun]']#log mass\n",
    "        mass = 10 ** log_mass#converts from log-mass to normal solar unit mass\n",
    "        if mass != -9.999 and np.isfinite(mass):\n",
    "            sigma_z = math.sqrt(((3/64)*(math.pi)*(6.6741 * (10**(-20) * (mass * 2 * (10 **30)))/rc)))\n",
    "#             print(\"Solaris:\", sigma_z)#can print dispersion and source if necessary\n",
    "            if sigma_z != 0:\n",
    "                OCs['sigma_v'].iloc[index]= sigma_z\n",
    "                i.append(index)\n",
    "                n+=1\n",
    "\n",
    "\n",
    "\n",
    "\n",
    "\n",
    "\n",
    "print(\"Total # sigmas:\", n)\n",
    "print(\"Total # of Open Clusters:\",len(OCs))\n",
    "percent = n/len(OCs)\n",
    "print(f'The percent of Open Clusters we could get a velocity dispersion for is: {percent}')"
   ]
  },
  {
   "cell_type": "code",
   "execution_count": 11,
   "metadata": {},
   "outputs": [
    {
     "name": "stdout",
     "output_type": "stream",
     "text": [
      "GC values:\n",
      "Index(['ID_x', 'Name', 'RA', 'DEC', 'L', 'B', 'R_Sun', 'R_gc', 'X', 'Y', 'Z',\n",
      "       'key_0', '[Fe/H]_x', 'wt', 'E(B-V)_x', 'V_HB', '(m-M)V_x', 'V_t',\n",
      "       'M_V,t', 'U-B', 'B-V', 'V-R', 'V-I', 'spt', 'ellip', 'ID_y', 'v_r',\n",
      "       '+/-', 'v_LSR', 'sig_v', '+/-.1', 'c', 'r_c', 'r_h', 'mu_V', 'rho_',\n",
      "       'lg(tc)', 'lg(th)', 'Mcl[Msun]', 'rh[pc]', '[Fe/H]_y', 'age[Gyr]',\n",
      "       '(m-M)V_y', 'E(B-V)_y', 'log10(rho[Msun]/pc^3)', 'rc', 'sigma0[km/s]',\n",
      "       'esigma0[km/s]', 'fb', 'efb', '[M/H]', 'Rgc[kpc]', 'Rsun[kpc]'],\n",
      "      dtype='object')\n",
      " \n",
      "OC values:\n",
      "Index(['Unnamed: 0', 'Cluster_name', 'RA', 'DEC', 'l', 'b', 'Dist', 'Mod',\n",
      "       'EB-V', 'Age', 'ST', 'Z', 'Diam', 'Fe/H', 'MRV', 'pm RA', 'pm Dec',\n",
      "       'logM[Msun]', 'rtP[pc]', 'log(t[yr])K', 'rcK[pc]', 'rtK[pc]', 'Rhm[pc]',\n",
      "       '[Fe/H]K]', 'deltaV', 'sigdV', '[FeH]', 'sigFeH', 't', 'sigt', 'logt',\n",
      "       'Rgc', 'z', 'Diam[pc]', 'd[pc]', 'sigma_v'],\n",
      "      dtype='object')\n"
     ]
    }
   ],
   "source": [
    "print('GC values:')\n",
    "print(GCs.columns)\n",
    "print(' ')\n",
    "print('OC values:')\n",
    "print(OCs.columns)"
   ]
  },
  {
   "cell_type": "code",
   "execution_count": 12,
   "metadata": {},
   "outputs": [],
   "source": [
    "\"\"\"Want plots of cluster mass, radius, age, Fe/H, and distance \n",
    "        for both Open and Globular Clusters\"\"\"\n",
    "\n",
    "# Globular cluster values - all GCs\n",
    "gc_mass = GCs['Mcl[Msun]']#cluster mass in solar units: M_sun = 2*10^30 kg\n",
    "gc_dist = GCs['Rsun[kpc]']#distance to cluster in kiloparsecs\n",
    "# gc_dist = gc_dist * 1000#converitng to parsecs from kpc\n",
    "gc_met = GCs['[Fe/H]_x']#metallicity\n",
    "gc_rad = GCs['rh[pc]']#core radius in arcmin\n",
    "gc_age = GCs['age[Gyr]']#age\n",
    "\n",
    "# Open CLuster values - all OCS\n",
    "oc_age = OCs['Age']#WEBDA age\n",
    "oc_diam_w = OCs['Diam']#WEBDA diam\n",
    "oc_rad = oc_diam_w / 2\n",
    "oc_met = OCs['Fe/H']#WEBDA Met\n",
    "oc_dist = OCs['Dist']#WEBDA Dist\n",
    "oc_rhm = OCs['Rhm[pc]']\n",
    "oc_diam_s = OCs['Diam[pc]']#Solaris diameter\n",
    "oc_rad_s = oc_diam_s /2#solaris radius\n",
    "oc_mass = OCs['logM[Msun]']#mass for open clusters (given by Solaris)\n"
   ]
  },
  {
   "cell_type": "code",
   "execution_count": 13,
   "metadata": {},
   "outputs": [],
   "source": [
    "# Getting values for selected velo dispersion ones\n",
    "sGCs = GCs.iloc[gc_indices]#'sigma' GCs - ones where we were able to get a velocity dispersion\n",
    "sOCs = OCs.iloc[i]#'sigma' OCs - ones where we were able to get a velocity dispersion\n"
   ]
  },
  {
   "cell_type": "code",
   "execution_count": 14,
   "metadata": {},
   "outputs": [],
   "source": [
    "# Globular cluster values - all GCs\n",
    "sgc_mass = sGCs['Mcl[Msun]']#cluster mass in solar units: M_sun = 2*10^30 kg\n",
    "sgc_dist = sGCs['Rsun[kpc]']#distance to cluster in kiloparsecs\n",
    "# sgc_dist = sgc_dist * 1000#converitng to parsecs from kpc\n",
    "sgc_met = sGCs['[Fe/H]_x']#metallicity\n",
    "sgc_rad = sGCs['rh[pc]']#core radius in arcmin\n",
    "sgc_age = sGCs['age[Gyr]']#age\n",
    "\n",
    "# Open Cluster values - all OCS\n",
    "soc_age = sOCs['Age']#WEBDA age\n",
    "soc_diam_w = sOCs['Diam']#WEBDA diam\n",
    "soc_rad = soc_diam_w / 2\n",
    "soc_met = sOCs['Fe/H']#WEBDA Met\n",
    "soc_dist = sOCs['Dist']#WEBDA Dist\n",
    "soc_rhm = sOCs['Rhm[pc]']\n",
    "soc_diam_s = sOCs['Diam[pc]']#Solaris diameter\n",
    "soc_rad_s = soc_diam_s /2#solaris radius\n",
    "soc_mass = sOCs['logM[Msun]']#mass for open clusters (given by Solaris)"
   ]
  },
  {
   "cell_type": "code",
   "execution_count": 15,
   "metadata": {},
   "outputs": [
    {
     "name": "stdout",
     "output_type": "stream",
     "text": [
      "0.5859872611464968\n",
      "157\n"
     ]
    }
   ],
   "source": [
    "gc_mass = gc_mass.loc[np.where(gc_mass.values != -9.99)]\n",
    "print(len(gc_mass)/len(GCs))\n",
    "print(len(GCs))"
   ]
  },
  {
   "cell_type": "code",
   "execution_count": 16,
   "metadata": {},
   "outputs": [
    {
     "data": {
      "text/plain": [
       "<matplotlib.legend.Legend at 0x123167400>"
      ]
     },
     "execution_count": 16,
     "metadata": {},
     "output_type": "execute_result"
    },
    {
     "data": {
      "image/png": "[encoded data removed]",
      "text/plain": [
       "<Figure size 576x360 with 1 Axes>"
      ]
     },
     "metadata": {
      "needs_background": "light"
     },
     "output_type": "display_data"
    }
   ],
   "source": [
    "# Mass Histograms\n",
    "f,ax = plt.subplots(figsize = (8,5))\n",
    "\n",
    "# Globular Clusters \n",
    "ax.hist(gc_mass, bins = 100, density = True, color = 'b', label = 'All Globular Clusters')#all gc masses\n",
    "ax.hist(sgc_mass, bins = 100, density = True, color = 'r',label = 'Clusters with $\\sigma$-values', alpha = 0.5)\n",
    "ax.set_xlabel('Mass of Cluster ($M_\\odot$)')\n",
    "ax.set_xlim(100,2000000)\n",
    "ax.legend()\n",
    "\n"
   ]
  },
  {
   "cell_type": "code",
   "execution_count": 17,
   "metadata": {},
   "outputs": [
    {
     "data": {
      "text/plain": [
       "<matplotlib.legend.Legend at 0x12336cb38>"
      ]
     },
     "execution_count": 17,
     "metadata": {},
     "output_type": "execute_result"
    },
    {
     "data": {
      "image/png": "[encoded data removed]",
      "text/plain": [
       "<Figure size 576x360 with 1 Axes>"
      ]
     },
     "metadata": {
      "needs_background": "light"
     },
     "output_type": "display_data"
    }
   ],
   "source": [
    "# Open Cluster Mass histogram\n",
    "f, ax = plt.subplots(figsize = (8,5))\n",
    "# print(len(soc_mass),len(oc_mass))\n",
    "\n",
    "ax.hist(oc_mass.loc[np.isfinite(oc_mass)], density = True, \\\n",
    "        color = '#0A162B', label = 'All Open Clusters')#all open clusters\n",
    "ax.hist(soc_mass, density = True, color = '#CA3700', label = 'Clusters with $\\sigma$-values', alpha = 0.5)\n",
    "ax.set_xlabel('Open Cluster Mass ($M_\\odot$)')\n",
    "ax.legend()"
   ]
  },
  {
   "cell_type": "code",
   "execution_count": 18,
   "metadata": {},
   "outputs": [
    {
     "name": "stdout",
     "output_type": "stream",
     "text": [
      "92 152\n"
     ]
    }
   ],
   "source": [
    "print(len(sgc_rad), len(gc_rad.loc[np.where(gc_rad != -9.99)]))"
   ]
  },
  {
   "cell_type": "code",
   "execution_count": 19,
   "metadata": {},
   "outputs": [
    {
     "data": {
      "text/plain": [
       "<matplotlib.legend.Legend at 0x1234b5470>"
      ]
     },
     "execution_count": 19,
     "metadata": {},
     "output_type": "execute_result"
    },
    {
     "data": {
      "image/png": "[encoded data removed]",
      "text/plain": [
       "<Figure size 576x360 with 1 Axes>"
      ]
     },
     "metadata": {
      "needs_background": "light"
     },
     "output_type": "display_data"
    }
   ],
   "source": [
    "# Radius Histograms\n",
    "\n",
    "# Globular Clusters\n",
    "f, ax = plt.subplots(figsize = (8,5))\n",
    "\n",
    "ax.hist(gc_rad.loc[np.where(gc_rad != -9.99)], bins = 100, density = True, color = 'b', label = 'All Globular Clusters')#all globulars\n",
    "ax.hist(sgc_rad,bins = 100, density = True, color = 'r',label = 'Clusters with $\\sigma$-values', alpha = 0.55)\n",
    "ax.set_xlabel('Globular Cluster Radius [pc]')\n",
    "# ax.set_xlim(0,30)\n",
    "\n",
    "ax.legend()"
   ]
  },
  {
   "cell_type": "code",
   "execution_count": 20,
   "metadata": {},
   "outputs": [
    {
     "name": "stdout",
     "output_type": "stream",
     "text": [
      "1270 1747\n"
     ]
    }
   ],
   "source": [
    "print(len(soc_rad), len(oc_rad.loc[np.isfinite(oc_rad)]))"
   ]
  },
  {
   "cell_type": "code",
   "execution_count": 21,
   "metadata": {},
   "outputs": [
    {
     "name": "stderr",
     "output_type": "stream",
     "text": [
      "/Users/andrewbowen/anaconda3/envs/cosmic/lib/python3.7/site-packages/pandas/core/indexing.py:1494: FutureWarning: \n",
      "Passing list-likes to .loc or [] with any missing label will raise\n",
      "KeyError in the future, you can use .reindex() as an alternative.\n",
      "\n",
      "See the documentation here:\n",
      "https://pandas.pydata.org/pandas-docs/stable/indexing.html#deprecate-loc-reindex-listlike\n",
      "  return self._getitem_tuple(key)\n",
      "/Users/andrewbowen/anaconda3/envs/cosmic/lib/python3.7/site-packages/numpy/lib/histograms.py:824: RuntimeWarning: invalid value encountered in greater_equal\n",
      "  keep = (tmp_a >= first_edge)\n",
      "/Users/andrewbowen/anaconda3/envs/cosmic/lib/python3.7/site-packages/numpy/lib/histograms.py:825: RuntimeWarning: invalid value encountered in less_equal\n",
      "  keep &= (tmp_a <= last_edge)\n"
     ]
    },
    {
     "data": {
      "text/plain": [
       "<matplotlib.legend.Legend at 0x122c86748>"
      ]
     },
     "execution_count": 21,
     "metadata": {},
     "output_type": "execute_result"
    },
    {
     "data": {
      "image/png": "[encoded data removed]",
      "text/plain": [
       "<Figure size 576x360 with 1 Axes>"
      ]
     },
     "metadata": {
      "needs_background": "light"
     },
     "output_type": "display_data"
    }
   ],
   "source": [
    "# Open Cluster radius plots\n",
    "soc_rhm_nandrop = soc_rhm.loc[np.isfinite(soc_rhm)]\n",
    "f, ax = plt.subplots(figsize = (8,5))\n",
    "\n",
    "ax.hist(oc_rad.loc[np.isfinite(oc_rad)], bins = 100, density = False, color = '#0A162B', \\\n",
    "        label = 'All Open Clusters')#Radius Histogram for all open clusters\n",
    "ax.hist(soc_rad.loc[np.isfinite(soc_rad)], bins = 100, density = False, color = '#CA3700', \\\n",
    "        label = 'Open Clusters with $\\sigma$ values - WEBDA', alpha = 0.6)\n",
    "ax.hist(soc_rhm_nandrop.loc[np.where(soc_rhm != -9.999)] , bins = 10, density = False, color = 'gray', \\\n",
    "        label = 'Open Clusters with $\\sigma$ values - Piskunov', alpha = 0.5)\n",
    "ax.set_xlim(0,60)\n",
    "# ax.set_ylim(0,1)\n",
    "ax.legend()\n",
    "\n",
    "# Check units on these"
   ]
  },
  {
   "cell_type": "code",
   "execution_count": 22,
   "metadata": {},
   "outputs": [
    {
     "data": {
      "text/plain": [
       "<matplotlib.legend.Legend at 0x123be8320>"
      ]
     },
     "execution_count": 22,
     "metadata": {},
     "output_type": "execute_result"
    },
    {
     "data": {
      "image/png": "[encoded data removed]",
      "text/plain": [
       "<Figure size 576x360 with 1 Axes>"
      ]
     },
     "metadata": {
      "needs_background": "light"
     },
     "output_type": "display_data"
    }
   ],
   "source": [
    "# Globular Cluster Age plot\n",
    "sgc_age = sgc_age.loc[np.isfinite(sgc_age)]#getting rid of nan values\n",
    "f,ax = plt.subplots(figsize = (8,5))\n",
    "\n",
    "ax.hist(gc_age.loc[np.where(gc_age != -9.99)], bins = 40, density = True, color = '#0E3386', label = 'All Globular Clusters')\n",
    "ax.hist(sgc_age.loc[np.where(sgc_age != -9.990)], bins = 40, density = True, color = '#CC3433',\\\n",
    "        label = 'Globular Clusters with $\\sigma$-values', alpha = 0.7)\n",
    "ax.set_xlabel('Globular Cluster Age (Gyr)')\n",
    "ax.set_xlim(4,14)\n",
    "\n",
    "ax.legend()"
   ]
  },
  {
   "cell_type": "code",
   "execution_count": 23,
   "metadata": {},
   "outputs": [
    {
     "data": {
      "text/plain": [
       "<matplotlib.legend.Legend at 0x123e68940>"
      ]
     },
     "execution_count": 23,
     "metadata": {},
     "output_type": "execute_result"
    },
    {
     "data": {
      "image/png": "[encoded data removed]",
      "text/plain": [
       "<Figure size 576x360 with 1 Axes>"
      ]
     },
     "metadata": {
      "needs_background": "light"
     },
     "output_type": "display_data"
    }
   ],
   "source": [
    "# Open Cluster Age Plot\n",
    "# Dropping NaN values from both series\n",
    "oc_age = oc_age.loc[np.isfinite(oc_age)]\n",
    "soc_age = soc_age.loc[np.isfinite(soc_age)]\n",
    "\n",
    "f,ax = plt.subplots(figsize = (8,5))\n",
    "\n",
    "ax.hist(oc_age, bins = 50, density = True, color = '#0A162B', \\\n",
    "        label = 'All Open Clusters')\n",
    "ax.hist(soc_age, bins = 50, density = True, color = '#CA3700', \\\n",
    "        label = 'Open Clusters with $\\sigma$ values - WEBDA', alpha = 0.6)\n",
    "ax.set_xlabel('Open Cluster Age (Gyr)')\n",
    "ax.legend()"
   ]
  },
  {
   "cell_type": "code",
   "execution_count": 24,
   "metadata": {},
   "outputs": [
    {
     "data": {
      "text/plain": [
       "Text(0.5, 0, 'Globular Cluster Distance [kpc]')"
      ]
     },
     "execution_count": 24,
     "metadata": {},
     "output_type": "execute_result"
    },
    {
     "data": {
      "image/png": "[encoded data removed]",
      "text/plain": [
       "<Figure size 576x360 with 1 Axes>"
      ]
     },
     "metadata": {
      "needs_background": "light"
     },
     "output_type": "display_data"
    }
   ],
   "source": [
    "# Globular Cluster Distance Histogram\n",
    "\n",
    "f, ax = plt.subplots(figsize=(8,5))\n",
    "\n",
    "ax.hist(gc_dist, bins = 25, density = True, color = '#0E3386', label = 'All Globular Clusters')\n",
    "ax.hist(sgc_dist, bins = 25, density = True, color = '#CC3433',\\\n",
    "        label = 'Globular Clusters with $\\sigma$-values', alpha = 0.7)\n",
    "ax.set_xlabel('Globular Cluster Distance [kpc]')"
   ]
  },
  {
   "cell_type": "code",
   "execution_count": 25,
   "metadata": {},
   "outputs": [],
   "source": [
    "# WEBDA Distances\n",
    "oc_dist = oc_dist / 1000\n",
    "soc_dist = soc_dist / 1000"
   ]
  },
  {
   "cell_type": "code",
   "execution_count": 26,
   "metadata": {},
   "outputs": [
    {
     "data": {
      "text/plain": [
       "<matplotlib.legend.Legend at 0x123b88b38>"
      ]
     },
     "execution_count": 26,
     "metadata": {},
     "output_type": "execute_result"
    },
    {
     "data": {
      "image/png": "[encoded data removed]",
      "text/plain": [
       "<Figure size 576x360 with 1 Axes>"
      ]
     },
     "metadata": {
      "needs_background": "light"
     },
     "output_type": "display_data"
    }
   ],
   "source": [
    "# Open Cluster Distance Histogram\n",
    "f,ax = plt.subplots(figsize = (8,5))\n",
    "\n",
    "ax.hist(oc_dist, bins = 50, density = True, color = '#0A162B', \\\n",
    "        label = 'All Open Clusters')\n",
    "\n",
    "ax.hist(soc_dist, bins = 50, density = True, color = '#CA3700', \\\n",
    "        label = 'Open Clusters with $\\sigma$ values - WEBDA', alpha = 0.6)\n",
    "\n",
    "ax.set_xlabel('Open Cluster Distance [kpc] - WEBDA')\n",
    "ax.legend()"
   ]
  },
  {
   "cell_type": "code",
   "execution_count": 27,
   "metadata": {},
   "outputs": [
    {
     "data": {
      "text/plain": [
       "<matplotlib.legend.Legend at 0x124314e80>"
      ]
     },
     "execution_count": 27,
     "metadata": {},
     "output_type": "execute_result"
    },
    {
     "data": {
      "image/png": "[encoded data removed]",
      "text/plain": [
       "<Figure size 576x360 with 1 Axes>"
      ]
     },
     "metadata": {
      "needs_background": "light"
     },
     "output_type": "display_data"
    }
   ],
   "source": [
    "# Globular Cluster Metallicity Histogram\n",
    "f,ax = plt.subplots(figsize = (8,5))\n",
    "\n",
    "ax.hist(gc_met,  bins = 20, density = True, color = '#0E3386', label = 'All Globular Clusters')\n",
    "ax.hist(sgc_met, bins = 20, density = True, color = '#CC3433',\\\n",
    "        label = 'Globular Clusters with $\\sigma$-values', alpha = 0.7)\n",
    "ax.set_xlabel('Globular Cluster Metallicity')\n",
    "ax.legend()"
   ]
  },
  {
   "cell_type": "code",
   "execution_count": 28,
   "metadata": {},
   "outputs": [
    {
     "data": {
      "text/plain": [
       "<matplotlib.legend.Legend at 0x12446e550>"
      ]
     },
     "execution_count": 28,
     "metadata": {},
     "output_type": "execute_result"
    },
    {
     "data": {
      "image/png": "[encoded data removed]",
      "text/plain": [
       "<Figure size 576x360 with 1 Axes>"
      ]
     },
     "metadata": {
      "needs_background": "light"
     },
     "output_type": "display_data"
    }
   ],
   "source": [
    "# Open Cluster Metallicity Histogram\n",
    "oc_metal = oc_met.loc[np.isfinite(oc_met)]#getting rid of thos nasty NaN Values\n",
    "soc_metal = soc_met.loc[np.isfinite(soc_met)]\n",
    "f,ax = plt.subplots(figsize = (8,5))\n",
    "ax.hist(oc_metal, bins = 20, density = True, color = '#0A162B', \\\n",
    "        label = 'All Open Clusters')\n",
    "ax.hist(soc_metal, bins = 20, density = True, color = '#CA3700', \\\n",
    "        label = 'Open Clusters with $\\sigma$ values - WEBDA', alpha = 0.6)\n",
    "ax.set_xlabel('Open Cluster Metallicity - WEBDA')        \n",
    "ax.legend()\n"
   ]
  },
  {
   "cell_type": "code",
   "execution_count": 80,
   "metadata": {},
   "outputs": [
    {
     "name": "stdout",
     "output_type": "stream",
     "text": [
      "62\n"
     ]
    }
   ],
   "source": [
    "# print(GCs['sigma_v'])\n",
    "print(len(GCs['sig_v'].loc[np.isfinite(GCs['sig_v'])]))\n",
    "# f,ax = plt.subplots(figsize = (8,5))"
   ]
  },
  {
   "cell_type": "code",
   "execution_count": 73,
   "metadata": {},
   "outputs": [
    {
     "data": {
      "image/png": "[encoded data removed]",
      "text/plain": [
       "<Figure size 576x360 with 1 Axes>"
      ]
     },
     "metadata": {
      "needs_background": "light"
     },
     "output_type": "display_data"
    }
   ],
   "source": [
    "# Globular Clusters Velocity Dispersion Histograms\n",
    "calcsigma = gc_calcsigma.loc[np.where(gc_calcsigma != 0)]#dropping bad values\n",
    "\n",
    "f,ax = plt.subplots(figsize = (8,5))\n",
    "\n",
    "# Calculated sigmas first\n",
    "ax.hist(hmf_sigma, bins = 20,density = True, color = 'gray', label = 'HMF Given Sigma Values')\n",
    "ax.hist(calcsigma, bins = 20,density = True,\\\n",
    "        color = '#4E2A84', label = 'Calculated $\\sigma$ values', alpha = 0.7)\n",
    "ax.set_xlabel('Globular Cluster Velocity Dispersions, $\\sigma$ (km/s)')\n",
    "ax.set_title('Globular Clusters')\n",
    "ax.legend()\n",
    "f.savefig('/Users/andrewbowen/ceb_project/cosmic_pop/plots_cosmic/GC-sigma-hist.pdf')\n",
    "# There are more calculated values of sigma than good values given by the HMF table"
   ]
  },
  {
   "cell_type": "code",
   "execution_count": 74,
   "metadata": {},
   "outputs": [],
   "source": [
    "oc_sigma = OCs['sigma_v']\n",
    "OC_sigma = oc_sigma.loc[np.where(oc_sigma != 0)]\n"
   ]
  },
  {
   "cell_type": "code",
   "execution_count": 149,
   "metadata": {},
   "outputs": [
    {
     "data": {
      "image/png": "[encoded data removed]",
      "text/plain": [
       "<Figure size 576x360 with 1 Axes>"
      ]
     },
     "metadata": {
      "needs_background": "light"
     },
     "output_type": "display_data"
    }
   ],
   "source": [
    "# Open Cluster Sigma Histogram\n",
    "\n",
    "f,ax = plt.subplots(figsize = (8,5))\n",
    "\n",
    "ax.hist(OC_sigma, bins = 300, color = '#0A162B')\n",
    "ax.set_xlim(0,2)\n",
    "ax.set_xlabel('Open Cluster Velocity Dispersion, $\\sigma$ (km/s)')\n",
    "ax.set_title('Open Clusters (Piskunov masses used)')\n",
    "f.savefig('/Users/andrewbowen/ceb_project/cosmic_pop/plots_cosmic/OC-sigma-hist.pdf')"
   ]
  },
  {
   "cell_type": "code",
   "execution_count": 143,
   "metadata": {},
   "outputs": [
    {
     "name": "stderr",
     "output_type": "stream",
     "text": [
      "/Users/andrewbowen/anaconda3/envs/cosmic/lib/python3.7/site-packages/ipykernel_launcher.py:2: FutureWarning: The signature of `Series.to_csv` was aligned to that of `DataFrame.to_csv`, and argument 'header' will change its default value from False to True: please pass an explicit value to suppress this warning.\n",
      "  \n",
      "/Users/andrewbowen/anaconda3/envs/cosmic/lib/python3.7/site-packages/ipykernel_launcher.py:3: FutureWarning: The signature of `Series.to_csv` was aligned to that of `DataFrame.to_csv`, and argument 'header' will change its default value from False to True: please pass an explicit value to suppress this warning.\n",
      "  This is separate from the ipykernel package so we can avoid doing imports until\n"
     ]
    }
   ],
   "source": [
    "# Saving these columns to their own data file, can read in/add to data fram ine another script if needed\n",
    "GCs['sigma_v'].to_csv('/Users/andrewbowen/ceb_project/cosmic_pop/gc-sigma.txt')\n",
    "OCs['sigma_v'].to_csv('/Users/andrewbowen/ceb_project/cosmic_pop/oc-sigma.txt')"
   ]
  },
  {
   "cell_type": "code",
   "execution_count": 120,
   "metadata": {},
   "outputs": [
    {
     "name": "stdout",
     "output_type": "stream",
     "text": [
      "51\n"
     ]
    }
   ],
   "source": [
    "hmfSig = GCs['sig_v'].loc[np.where(GCs['sigma_v'] != 0)]#Harris sigmas where we have calculates sigmas\n",
    "\n",
    "hmfSig = hmfSig.loc[np.isfinite(hmfSig)]\n",
    "\n",
    "# print(calcsigma.loc[np.where(hmfSig != 0)].values/hmfSig.values)\n",
    "\n",
    "# print('Given Sigmas:', GCs['sig_v'])\n",
    "# print('Calculated Sigmas:', GCs['sigma_v'])\n",
    "\n",
    "n = 0\n",
    "ratios = []\n",
    "for index, row in GCs.iterrows():#checking for calculated values against hmf values\n",
    "    if np.isfinite(row['sig_v']) and row['sigma_v'] != 0:\n",
    "        sigma_c = row['sigma_v']#calculated sigma\n",
    "        sigma_h = row['sig_v']#Harris sigma\n",
    "        sig_rat = sigma_c/sigma_h\n",
    "        n += 1\n",
    "        ratios.append(sig_rat)\n",
    "print(len(ratios))"
   ]
  },
  {
   "cell_type": "code",
   "execution_count": 119,
   "metadata": {},
   "outputs": [
    {
     "data": {
      "image/png": "[encoded data removed]",
      "text/plain": [
       "<Figure size 576x360 with 1 Axes>"
      ]
     },
     "metadata": {
      "needs_background": "light"
     },
     "output_type": "display_data"
    }
   ],
   "source": [
    "# Histogram of velocity dispersion ratios\n",
    "f,ax = plt.subplots(figsize = (8,5))\n",
    "ax.hist(ratios, bins = 15, color = '#0E3386')\n",
    "ax.set_xlabel('Ratios of calculated $\\sigma$ to Harris $\\sigma$ values')\n",
    "ax.set_title('Globular Clusters')\n",
    "f.savefig('/Users/andrewbowen/ceb_project/cosmic_pop/plots_cosmic/gc-ratio-sigma-hist.pdf')\n",
    "#62 GCs in total have harris and calculated sigma values"
   ]
  },
  {
   "cell_type": "code",
   "execution_count": null,
   "metadata": {},
   "outputs": [],
   "source": []
  }
 ],
 "metadata": {
  "kernelspec": {
   "display_name": "Python 3",
   "language": "python",
   "name": "python3"
  },
  "language_info": {
   "codemirror_mode": {
    "name": "ipython",
    "version": 3
   },
   "file_extension": ".py",
   "mimetype": "text/x-python",
   "name": "python",
   "nbconvert_exporter": "python",
   "pygments_lexer": "ipython3",
   "version": "3.7.3"
  }
 },
 "nbformat": 4,
 "nbformat_minor": 2
}
