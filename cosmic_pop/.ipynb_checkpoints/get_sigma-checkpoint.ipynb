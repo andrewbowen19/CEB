{
 "cells": [
  {
   "cell_type": "code",
   "execution_count": 1,
   "metadata": {},
   "outputs": [
    {
     "data": {
      "text/plain": [
       "'Creating get_sgima fucntion as a jupyter-notebook (down with sublime)'"
      ]
     },
     "execution_count": 1,
     "metadata": {},
     "output_type": "execute_result"
    }
   ],
   "source": [
    "\"\"\"Creating get_sgima fucntion as a jupyter-notebook (down with sublime)\"\"\""
   ]
  },
  {
   "cell_type": "code",
   "execution_count": 1,
   "metadata": {},
   "outputs": [],
   "source": [
    "import cosmic"
   ]
  },
  {
   "cell_type": "code",
   "execution_count": 2,
   "metadata": {},
   "outputs": [],
   "source": [
    "from cosmic.sample import InitialBinaryTable"
   ]
  },
  {
   "cell_type": "code",
   "execution_count": 3,
   "metadata": {},
   "outputs": [],
   "source": [
    "import pandas as pd\n",
    "import numpy as np\n",
    "import math"
   ]
  },
  {
   "cell_type": "code",
   "execution_count": 4,
   "metadata": {},
   "outputs": [],
   "source": [
    "names_gc = ['ID_x', 'Name', 'RA', 'DEC', 'L','B','R_Sun','R_gc','X','Y', 'Z', 'key_0','[Fe/H]_x', 'wt', 'E(B-V)_x',\\\n",
    " 'V_HB','(m-M)V_x', 'V_t', 'M_V,t', 'U-B', 'B-V', 'V-R', 'V-I', 'spt', 'ellip', 'ID_y', 'v_r', '+/-', 'v_LSR' ,'sig_v' ,'+/-.1', 'c', 'r_c', 'r_h', 'mu_V',\\\n",
    "  'rho_', 'lg(tc)', 'lg(th)', 'Mcl[Msun]', 'rh[pc]', '[Fe/H]_y', 'age[Gyr]', '(m-M)V_y', 'E(B-V)_y', 'log10(rho[Msun]/pc^3)',\\\n",
    " 'rc', 'sigma0[km/s]', 'esigma0[km/s]', 'fb', 'efb', '[M/H]', 'Rgc[kpc]','Rsun[kpc]']\n",
    "\n",
    "# names in OC datafile\n",
    "names_oc = ['Cluster_name', 'RA', 'DEC', 'l', 'b', 'Dist Mod', 'EB-V', 'Age', 'ST' ,'Z', 'Diam', 'Fe/H', 'MRV',\\\n",
    " 'pm RA', 'pm Dec', 'logM[Msun]', 'rtP[pc]', 'log(t[yr])K', 'rcK[pc]', 'rtK[pc]', 'Rhm[pc]',\\\n",
    "  '[Fe/H]K]', 'deltaV', 'sigdV', '[FeH]', 'sigFeH', 't', 'sigt', 'logt' ,'Rgc' ,'z' ,'Diam[pc]', 'd[pc]']\n",
    "path = '/Users/andrewbowen/ceb_project/data/data_files/'\n",
    "\n",
    "# Globular cluster read in\n",
    "GCs = pd.read_csv(path + 'gc_data.txt', sep = ' ', header = 0, names = names_gc)\n",
    "\n",
    "# Open Cluster Read-in\n",
    "OCs = pd.read_csv(path + 'oc_data.txt', sep = ' ', header = 0)"
   ]
  },
  {
   "cell_type": "code",
   "execution_count": 5,
   "metadata": {},
   "outputs": [],
   "source": [
    "# Globular Cluster core radius\n",
    "gc_rc = GCs['r_c']\n",
    "\n",
    "gc_distance = GCs['Rsun[kpc]']\n",
    "a = math.sqrt(2) * gc_rc\n",
    "\n",
    "# Squared z velocity dispersion (from core radius) - will need cluster mass maybe "
   ]
  },
  {
   "cell_type": "code",
   "execution_count": 8,
   "metadata": {},
   "outputs": [],
   "source": [
    "\"\"\"Globular Cluster for loop - getting velocity dispersion for each cluster\n",
    "(as given by Plummer models) -- may need to check units on formula bc values \n",
    "seem a bit off\"\"\"\n",
    "for index, cluster in GCs.iterrows():\n",
    "\trc = cluster['rh[pc]'] * (3.086 * (10**13))\n",
    "\ta = math.sqrt(2) * rc\n",
    "\tmass = cluster['Mcl[Msun]']\n",
    "\tdist = cluster['Rsun[kpc]']\n",
    "\tsigma_z = ((3/64)*(math.pi)*(6.6741 * (10**(-20) * (mass * 2 * (10 **30)))/rc))/math.sqrt(1 + ((dist/a)**2))\n",
    "\t"
   ]
  },
  {
   "cell_type": "code",
   "execution_count": 10,
   "metadata": {},
   "outputs": [
    {
     "name": "stdout",
     "output_type": "stream",
     "text": [
      "Index(['Unnamed: 0', 'Cluster_name', 'RA', 'DEC', 'l', 'b', 'Dist', 'Mod',\n",
      "       'EB-V', 'Age', 'ST', 'Z', 'Diam', 'Fe/H', 'MRV', 'pm RA', 'pm Dec',\n",
      "       'logM[Msun]', 'rtP[pc]', 'log(t[yr])K', 'rcK[pc]', 'rtK[pc]', 'Rhm[pc]',\n",
      "       '[Fe/H]K]', 'deltaV', 'sigdV', '[FeH]', 'sigFeH', 't', 'sigt', 'logt',\n",
      "       'Rgc', 'z', 'Diam[pc]', 'd[pc]'],\n",
      "      dtype='object')\n"
     ]
    }
   ],
   "source": [
    "\"\"\"Open Cluster Loop - will try to keep 3 data files consistent\"\"\"\n",
    "print(OCs.columns)\n",
    "\n"
   ]
  },
  {
   "cell_type": "code",
   "execution_count": null,
   "metadata": {},
   "outputs": [],
   "source": []
  }
 ],
 "metadata": {
  "kernelspec": {
   "display_name": "Python 3",
   "language": "python",
   "name": "python3"
  },
  "language_info": {
   "codemirror_mode": {
    "name": "ipython",
    "version": 3
   },
   "file_extension": ".py",
   "mimetype": "text/x-python",
   "name": "python",
   "nbconvert_exporter": "python",
   "pygments_lexer": "ipython3",
   "version": "3.7.3"
  }
 },
 "nbformat": 4,
 "nbformat_minor": 2
}
