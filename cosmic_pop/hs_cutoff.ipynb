{
 "cells": [
  {
   "cell_type": "code",
   "execution_count": 19,
   "metadata": {},
   "outputs": [
    {
     "data": {
      "text/plain": [
       "'Jupyter Notebook for finding the hard-soft boundary \\n    we will use to define our binary population given by cosmic\\n    HS Cutoff period should be longer for OCs (less dense) \\n    and shorter for GCs (more densely packed)'"
      ]
     },
     "execution_count": 19,
     "metadata": {},
     "output_type": "execute_result"
    }
   ],
   "source": [
    "\"\"\"Jupyter Notebook for finding the hard-soft boundary \n",
    "    we will use to define our binary population given by cosmic\n",
    "    HS Cutoff period should be longer for OCs (less dense) \n",
    "    and shorter for GCs (more densely packed)\"\"\""
   ]
  },
  {
   "cell_type": "code",
   "execution_count": 20,
   "metadata": {},
   "outputs": [],
   "source": [
    "from cosmic.sample.initialbinarytable import InitialBinaryTable\n",
    "from cosmic.sample.sampler import multidim\n",
    "from cosmic.evolve import Evolve"
   ]
  },
  {
   "cell_type": "code",
   "execution_count": 21,
   "metadata": {},
   "outputs": [],
   "source": [
    "import numpy as np\n",
    "import matplotlib.pyplot as plt"
   ]
  },
  {
   "cell_type": "code",
   "execution_count": 22,
   "metadata": {},
   "outputs": [],
   "source": [
    "# Dictionary neeeded for evolving the binaries\n",
    "BSEDict = {'xi': 0.5, 'bhflag': 1, 'neta': 0.5, 'windflag': 3, 'wdflag': 0,\\\n",
    "           'alpha1': 1.0, 'pts1': 0.05, 'pts3': 0.02, 'pts2': 0.01, 'epsnov': 0.001, \\\n",
    "           'hewind': 1.0, 'ck': -1000, 'bwind': 0.0, 'lambdaf': 1.0, 'mxns': 3.0, \\\n",
    "           'beta': -1.0, 'tflag': 1, 'acc2': 1.5, 'nsflag': 3, 'ceflag': 0, 'eddfac': 1.0, \\\n",
    "           'merger': 0, 'ifflag': 0, 'bconst': -3000, 'sigma': 265.0, 'gamma': -2.0, \\\n",
    "           'ppsn': 1, 'natal_kick_array' :[-100.0,-100.0,-100.0,-100.0,-100.0,-100.0], \\\n",
    "           'bhsigmafrac' : 1.0, 'polar_kick_angle' : 90, \\\n",
    "           'qcrit_array' : [0.0,0.0,0.0,0.0,0.0,0.0,0.0,0.0,0.0,0.0,0.0,0.0,0.0,0.0,0.0,0.0],\\\n",
    "           'cekickflag' : 0, 'cehestarflag' : 0, 'cemergeflag' : 0, 'ecsnp' : 2.5, \\\n",
    "           'ecsn_mlow' : 1.6, 'aic' : 1, 'sigmadiv' :-20.0}"
   ]
  },
  {
   "cell_type": "code",
   "execution_count": 23,
   "metadata": {},
   "outputs": [],
   "source": [
    "final_kstar1 = [11,12]\n",
    "final_kstar2 = [10]\n",
    "\n",
    "# Sampling initial binaries - pulled from cosmic's documentation\n",
    "InitialBinaries, sampled_mass, n_sampled = InitialBinaryTable.sampler('multidim', [0,14], [0,14], \\\n",
    "                            2,1, SFH_model='delta_burst', \\\n",
    "                            component_age=10000.0, met=0.02, size=60000)"
   ]
  },
  {
   "cell_type": "code",
   "execution_count": 24,
   "metadata": {},
   "outputs": [],
   "source": [
    "p_i = InitialBinaries['porb'] #given in days *i think: https://cosmic-popsynth.github.io/examples/index.html\n"
   ]
  },
  {
   "cell_type": "code",
   "execution_count": 25,
   "metadata": {},
   "outputs": [
    {
     "data": {
      "text/plain": [
       "Text(0.5, 0, 'Input Periods (log-days)')"
      ]
     },
     "execution_count": 25,
     "metadata": {},
     "output_type": "execute_result"
    },
    {
     "data": {
      "image/png": "[encoded data removed]",
      "text/plain": [
       "<Figure size 576x360 with 1 Axes>"
      ]
     },
     "metadata": {
      "needs_background": "light"
     },
     "output_type": "display_data"
    }
   ],
   "source": [
    "# Initial Binary Period Histogram\n",
    "f,ax = plt.subplots(figsize = (8,5))\n",
    "\n",
    "ax.hist(np.log(p_i), bins = 50, color = '#CF0A2C')\n",
    "ax.set_xlabel('Input Periods (log-days)')\n",
    "\n",
    "# Cutoff periods must be set by cosmic"
   ]
  },
  {
   "cell_type": "code",
   "execution_count": 26,
   "metadata": {},
   "outputs": [],
   "source": [
    "# Evolving the binaries\n",
    "bpp, bcm, initC  = Evolve.evolve(initialbinarytable=InitialBinaries, BSEDict=BSEDict)"
   ]
  },
  {
   "cell_type": "code",
   "execution_count": 27,
   "metadata": {},
   "outputs": [
    {
     "name": "stdout",
     "output_type": "stream",
     "text": [
      "Series([], Name: porb, dtype: float64)\n"
     ]
    }
   ],
   "source": [
    "p_f = bcm['porb']\n",
    "print(p_f.loc[np.where(p_f <0)])"
   ]
  },
  {
   "cell_type": "code",
   "execution_count": 28,
   "metadata": {},
   "outputs": [
    {
     "data": {
      "text/plain": [
       "Text(0.5, 0, 'Evolved periods (log-days)')"
      ]
     },
     "execution_count": 28,
     "metadata": {},
     "output_type": "execute_result"
    },
    {
     "data": {
      "image/png": "[encoded data removed]",
      "text/plain": [
       "<Figure size 576x360 with 1 Axes>"
      ]
     },
     "metadata": {
      "needs_background": "light"
     },
     "output_type": "display_data"
    }
   ],
   "source": [
    "# Evolved Binary Histogram - Period\n",
    "\n",
    "f,ax = plt.subplots(figsize = (8,5))\n",
    "ax.hist(np.log10(p_f), bins = 50, color = 'black')\n",
    "\n",
    "ax.set_xlabel('Evolved periods (log-days)')"
   ]
  },
  {
   "cell_type": "code",
   "execution_count": null,
   "metadata": {},
   "outputs": [],
   "source": []
  }
 ],
 "metadata": {
  "kernelspec": {
   "display_name": "Python 3",
   "language": "python",
   "name": "python3"
  },
  "language_info": {
   "codemirror_mode": {
    "name": "ipython",
    "version": 3
   },
   "file_extension": ".py",
   "mimetype": "text/x-python",
   "name": "python",
   "nbconvert_exporter": "python",
   "pygments_lexer": "ipython3",
   "version": "3.7.3"
  }
 },
 "nbformat": 4,
 "nbformat_minor": 2
}
